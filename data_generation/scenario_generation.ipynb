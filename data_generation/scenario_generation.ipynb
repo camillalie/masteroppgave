{
 "cells": [
  {
   "cell_type": "code",
   "execution_count": 2,
   "metadata": {},
   "outputs": [
    {
     "ename": "ModuleNotFoundError",
     "evalue": "No module named 'pandas'",
     "output_type": "error",
     "traceback": [
      "\u001b[0;31m---------------------------------------------------------------------------\u001b[0m",
      "\u001b[0;31mModuleNotFoundError\u001b[0m                       Traceback (most recent call last)",
      "Cell \u001b[0;32mIn[2], line 1\u001b[0m\n\u001b[0;32m----> 1\u001b[0m \u001b[38;5;28;01mimport\u001b[39;00m \u001b[38;5;21;01mpandas\u001b[39;00m \u001b[38;5;28;01mas\u001b[39;00m \u001b[38;5;21;01mpd\u001b[39;00m\n\u001b[1;32m      2\u001b[0m \u001b[38;5;28;01mimport\u001b[39;00m \u001b[38;5;21;01mrandom\u001b[39;00m\n\u001b[1;32m      3\u001b[0m \u001b[38;5;28;01mimport\u001b[39;00m \u001b[38;5;21;01mnumpy\u001b[39;00m \u001b[38;5;28;01mas\u001b[39;00m \u001b[38;5;21;01mnp\u001b[39;00m\n",
      "\u001b[0;31mModuleNotFoundError\u001b[0m: No module named 'pandas'"
     ]
    }
   ],
   "source": [
    "import pandas as pd\n",
    "import random\n",
    "import numpy as np\n",
    "import matplotlib.pyplot as plt"
   ]
  },
  {
   "cell_type": "code",
   "execution_count": null,
   "metadata": {},
   "outputs": [],
   "source": [
    "num_scenarios = 50\n",
    "num_fuel_groups = 3 #bio, fossil, electric\n",
    "\n",
    "fuel1_lb = 10\n",
    "fuel1_ub = 40\n",
    "\n",
    "fuel2_lb = 30\n",
    "fuel2_ub = 50\n",
    "\n",
    "fuel3_lb = 10\n",
    "fuel3_ub = 40\n",
    "\n",
    "fuel4_lb = 30\n",
    "fuel4_ub = 50"
   ]
  },
  {
   "cell_type": "code",
   "execution_count": null,
   "metadata": {},
   "outputs": [],
   "source": [
    "def generate_random_numbers_triangular(n):\n",
    "    random_numbers = np.random.triangular(0, 0.5, 1, size=n)\n",
    "    return random_numbers.tolist()\n",
    "\n",
    "random_numbers_fossilfuels = generate_random_numbers_triangular(num_scenarios)\n",
    "random_numbers_biofuels = generate_random_numbers_triangular(num_scenarios)\n",
    "random_numbers_electricfuels = generate_random_numbers_triangular(num_scenarios)"
   ]
  },
  {
   "cell_type": "code",
   "execution_count": null,
   "metadata": {},
   "outputs": [],
   "source": [
    "def calculate_fuel_cost(random_numbers, lb, ub):\n",
    "    fuel_costs = []\n",
    "    for number in random_numbers:\n",
    "        fuel_cost = lb + (ub - lb) * number\n",
    "        fuel_costs.append(fuel_cost)\n",
    "    return fuel_costs\n",
    "\n",
    "fuel1_costs = calculate_fuel_cost(random_numbers_biofuels, fuel1_lb, fuel1_ub)\n",
    "\n",
    "# To control the triangular distribution\n",
    "plt.hist(fuel1_costs, bins=np.arange(0, 105, 5), edgecolor='black')\n",
    "plt.title('Histogram of Random Numbers with Triangular Distribution')\n",
    "plt.xlabel('Value')\n",
    "plt.ylabel('Frequency')\n",
    "plt.xticks(np.arange(0, 105, 5))\n",
    "plt.grid(True)\n",
    "plt.show()"
   ]
  }
 ],
 "metadata": {
  "kernelspec": {
   "display_name": "masteroppgave",
   "language": "python",
   "name": "python3"
  },
  "language_info": {
   "codemirror_mode": {
    "name": "ipython",
    "version": 3
   },
   "file_extension": ".py",
   "mimetype": "text/x-python",
   "name": "python",
   "nbconvert_exporter": "python",
   "pygments_lexer": "ipython3",
   "version": "3.11.4"
  }
 },
 "nbformat": 4,
 "nbformat_minor": 2
}
