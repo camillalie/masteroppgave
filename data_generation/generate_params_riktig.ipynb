{
 "cells": [
  {
   "cell_type": "code",
   "execution_count": 20,
   "metadata": {},
   "outputs": [],
   "source": [
    "import pandas as pd\n",
    "import itertools\n",
    "import numpy as np\n",
    "import openpyxl\n",
    "# from scenario_generation import generate_fuel_prices\n"
   ]
  },
  {
   "cell_type": "markdown",
   "metadata": {},
   "source": [
    "### SETS"
   ]
  },
  {
   "cell_type": "code",
   "execution_count": 21,
   "metadata": {},
   "outputs": [
    {
     "name": "stdout",
     "output_type": "stream",
     "text": [
      "1\n",
      "2\n",
      "3\n",
      "4\n",
      "5\n",
      "6\n",
      "7\n",
      "8\n",
      "9\n"
     ]
    }
   ],
   "source": [
    "fuel_price_csv = 'fuel_price2_27s.csv'\n",
    "# Velg antall av de ulike settene her\n",
    "#set_sheets = {'Power systems': 11, 'Ages': 6, 'Routes': 3122, 'Time periods':6, 'Time periods 1': 2, 'Time periods 2':4, 'Fuel types': 10, 'Installations': 18, 'Scenarios': 100}\n",
    "\n",
    "t_values = range(0, 6)  # time period from 1 to 6\n",
    "t1_values = range(0, 2)\n",
    "t2_values = range(2, 6)\n",
    "tp2_values = range(2,7)\n",
    "f_values = range(1, 10)  # Assuming you want values from 1 to 7 for 'f'\n",
    "r_values = range(1, 58)  # Assuming you want values from 1 to 3122 for 'r'\n",
    "n_values = range(1, 19) # 18 installations\n",
    "s_values = range(1,12) # 11 systems\n",
    "w_values = range(1, 11) # 100 scenarios\n",
    "a_values = range(0, 6)\n",
    "\n",
    "for t in f_values:\n",
    "    print(t)\n"
   ]
  },
  {
   "cell_type": "code",
   "execution_count": 22,
   "metadata": {},
   "outputs": [],
   "source": [
    "# Skriver alle sets med verdier definert over til excel\n",
    "\n",
    "sets_excel_output_path = '../run_model/SetData-sheets.xlsx'\n",
    "\n",
    "set_sheets = {\n",
    "    'Power systems': s_values,\n",
    "    'Ages': a_values,\n",
    "    'Routes': r_values,\n",
    "    'Time periods': t_values,\n",
    "    'Time periods 1': t1_values,\n",
    "    'Time periods 2': t2_values,\n",
    "    'TP2 scrap': tp2_values,\n",
    "    'Fuel types': f_values,\n",
    "    'Installations': n_values,\n",
    "    'Scenarios': w_values\n",
    "}\n",
    "\n",
    "# Create data frames for each set and write to Excel\n",
    "with pd.ExcelWriter(sets_excel_output_path, engine='openpyxl') as writer:\n",
    "    for sheet, values in set_sheets.items():\n",
    "        # Create a DataFrame for the current set\n",
    "        df = pd.DataFrame(itertools.product(values), columns=[sheet])\n",
    "\n",
    "        # Write the DataFrame to the Excel file with the current sheet name\n",
    "        df.to_excel(writer, sheet_name=sheet, index=False)"
   ]
  },
  {
   "cell_type": "markdown",
   "metadata": {},
   "source": [
    "#### Generere kombinasjoner av indekser til parameterne"
   ]
  },
  {
   "cell_type": "code",
   "execution_count": 23,
   "metadata": {},
   "outputs": [],
   "source": [
    "\n",
    "combinations_f_r = itertools.product(f_values, r_values)\n",
    "combinations_ems = itertools.product(f_values, r_values)\n",
    "combinations_r_s = itertools.product(r_values, s_values)\n",
    "combinations_t = itertools.product(t_values)\n",
    "combinations_s_a = itertools.product(s_values, a_values)\n",
    "combinations_f_r_w = itertools.product(f_values, r_values, w_values)\n",
    "combinations_w = itertools.product(w_values)\n",
    "combinations_r = itertools.product(r_values)"
   ]
  },
  {
   "cell_type": "markdown",
   "metadata": {},
   "source": [
    "#### Inputdata"
   ]
  },
  {
   "cell_type": "code",
   "execution_count": 24,
   "metadata": {},
   "outputs": [],
   "source": [
    "# Hardkodet inn fuelpris per MJ per fueltype 1-6\n",
    "fuel_prices = {1: 0.171, 2:0.163, 3:0.514, 4:0.328, 5:0.222, 6:0.205, 7: 0.197, 8: 0.183, 9: 0.297}\n",
    "\n",
    "\n",
    "\n",
    "\n",
    "# fuel_dict = {\n",
    "#     1: (0.178, 0.094, 'fossil'),      # MGO\n",
    "#     2: (0.146, 0.073, 'fossil'),      # LNG\n",
    "#     3: (0.491, 0.261, 'green_fuels'), # GREEN METHANOL\n",
    "#     4: (0.324, 0.178, 'green_fuels'), # GREEN NH3\n",
    "#     5: (0.278, 0.147, 'bio'),         # B30\n",
    "#     6: (0.245, 0.130, 'bio'),         # B20\n",
    "#     7: (0.228, 0.121, 'bio'),         # B15\n",
    "#     8: (0.201, 0.106, 'bio'),         # B7\n",
    "#     9: (0.301, 0.129, 'green_fuels')  # Helelektrisk\n",
    "# }\n",
    " # Example fuel bounds with group information\n",
    "\n",
    "\n",
    "# Karbonutslipp per MJ som er brukt for hver type fuel\n",
    "emissions_carbon_tonn_per_MJ_wtw = {1: 0.000182, 2: 0.000153, 3: 0.000033, 4: 0.000033, 5: 0.000134, 6: 0.000150, 7: 0.000158, 8: 0.000170, 9: 0.000008 }\n",
    "emissions_carbon_tonn_per_MJ_ttw = {1: 0.000152778, 2: 0.000115556, 3: 0.000085278, 4: 0.000025583, 5: 0.000017528, 6: 0.0, 7: 0.0}\n",
    "emissions_carbon_tonn_per_MJ = emissions_carbon_tonn_per_MJ_wtw \n",
    "\n",
    "\n",
    "# Regne ut reduksjonskrav for karbonutslipp\n",
    "init_ems_tonn = 165000\n",
    "\n",
    "scenario_1_reductions = {0: 0, 1: 0.50, 2: 0.55, 3: 0.70, 4: 0.80, 5: 0.80 } # ambisjonene til norske myndigheter. t=1 = 2030\n",
    "scenario_2_reductions = {0: 0, 1: 0, 2: 0.29, 3: 0.49, 4: 0.65, 5: 0.78, 6: 0.87} # DNV report Norway 2023 - kutt kun innenfor transport\n",
    "scenario_0_reductions = {0: 0, 1: 0, 2: 0, 3: 0, 4: 0, 5: 0, 6: 0}\n",
    "\n",
    "# Velg hvilket scenario som skal kjøres\n",
    "reduction_requirements = scenario_1_reductions\n",
    "\n",
    "capacity_systems = {1: 100, 2: 100, 3: 100, 4: 100, 5: 70, 6: 70, 7: 70, 8: 70, 9: 90, 10: 90, 11: 70, 12: 90, 13: 90}"
   ]
  },
  {
   "cell_type": "markdown",
   "metadata": {},
   "source": [
    "#### Lese inn data fra rutegenereringsprogrammet"
   ]
  },
  {
   "cell_type": "code",
   "execution_count": 25,
   "metadata": {},
   "outputs": [],
   "source": [
    "# # Leser inn nødvendig MJ på å kjøre hver rute\n",
    "mj_route = pd.read_csv('../route_generation_mongstad/generated_datafiles_reduced/mj_route.csv')\n",
    "#mj_route_el = pd.read_csv('../route_generation/generated_datafiles_reduced/mj_route_strøm.csv')\n",
    "\n",
    "\n",
    "\n",
    "# # Leser inn tid på å kjøre hver rute\n",
    "hours_route = pd.read_csv('../route_generation_mongstad/generated_datafiles_reduced/hours_route.csv')\n",
    "#hours_route_el = pd.read_csv('../route_generation/generated_datafiles_reduced/hours_route_strøm.csv')\n",
    "\n",
    "#demand_el = pd.read_csv('../route_generation/generated_datafiles_reduced/demand_strøm.csv')\n",
    "demand = pd.read_csv('../route_generation_mongstad/generated_datafiles_reduced/demand.csv')\n",
    "\n",
    "# Skriver verdiene tilbake i excelfilen for alle parametrene\n",
    "output_excel_path = '../run_model/Parameterdata-sheets.xlsx'\n"
   ]
  },
  {
   "cell_type": "markdown",
   "metadata": {},
   "source": [
    "##### Generere P_w"
   ]
  },
  {
   "cell_type": "code",
   "execution_count": 26,
   "metadata": {},
   "outputs": [
    {
     "data": {
      "text/html": [
       "<div>\n",
       "<style scoped>\n",
       "    .dataframe tbody tr th:only-of-type {\n",
       "        vertical-align: middle;\n",
       "    }\n",
       "\n",
       "    .dataframe tbody tr th {\n",
       "        vertical-align: top;\n",
       "    }\n",
       "\n",
       "    .dataframe thead th {\n",
       "        text-align: right;\n",
       "    }\n",
       "</style>\n",
       "<table border=\"1\" class=\"dataframe\">\n",
       "  <thead>\n",
       "    <tr style=\"text-align: right;\">\n",
       "      <th></th>\n",
       "      <th>O</th>\n",
       "      <th>Value</th>\n",
       "    </tr>\n",
       "  </thead>\n",
       "  <tbody>\n",
       "    <tr>\n",
       "      <th>0</th>\n",
       "      <td>1</td>\n",
       "      <td>0.1</td>\n",
       "    </tr>\n",
       "    <tr>\n",
       "      <th>1</th>\n",
       "      <td>2</td>\n",
       "      <td>0.1</td>\n",
       "    </tr>\n",
       "    <tr>\n",
       "      <th>2</th>\n",
       "      <td>3</td>\n",
       "      <td>0.1</td>\n",
       "    </tr>\n",
       "    <tr>\n",
       "      <th>3</th>\n",
       "      <td>4</td>\n",
       "      <td>0.1</td>\n",
       "    </tr>\n",
       "    <tr>\n",
       "      <th>4</th>\n",
       "      <td>5</td>\n",
       "      <td>0.1</td>\n",
       "    </tr>\n",
       "  </tbody>\n",
       "</table>\n",
       "</div>"
      ],
      "text/plain": [
       "   O  Value\n",
       "0  1    0.1\n",
       "1  2    0.1\n",
       "2  3    0.1\n",
       "3  4    0.1\n",
       "4  5    0.1"
      ]
     },
     "execution_count": 26,
     "metadata": {},
     "output_type": "execute_result"
    }
   ],
   "source": [
    "df_probability = pd.DataFrame(combinations_w, columns=['O'])\n",
    "\n",
    "df_probability['Value'] = 1/len(list(w_values))\n",
    "\n",
    "df_probability.head()\n"
   ]
  },
  {
   "cell_type": "code",
   "execution_count": 27,
   "metadata": {},
   "outputs": [],
   "source": [
    "\n",
    "with pd.ExcelWriter(output_excel_path, engine='openpyxl', mode='a', if_sheet_exists='replace') as writer:\n",
    "    df_probability.to_excel(writer, sheet_name='Probability', index=False)"
   ]
  },
  {
   "cell_type": "code",
   "execution_count": 28,
   "metadata": {},
   "outputs": [
    {
     "name": "stdout",
     "output_type": "stream",
     "text": [
      "{1: 'mj_route'}\n"
     ]
    }
   ],
   "source": [
    "distance_dict = {}\n",
    "\n",
    "for idx, value in enumerate(mj_route,1):\n",
    "    distance_dict[idx] = value\n",
    "\n",
    "print(distance_dict)"
   ]
  },
  {
   "cell_type": "markdown",
   "metadata": {},
   "source": [
    "##### Distance dict for compatibility og cost of fuel"
   ]
  },
  {
   "cell_type": "code",
   "execution_count": 29,
   "metadata": {},
   "outputs": [
    {
     "name": "stdout",
     "output_type": "stream",
     "text": [
      "{0: 221758.4, 1: 178953.6, 2: 192976.8, 3: 220346.8, 4: 210389.2, 5: 200084.8, 6: 265296.4, 7: 244674.0, 8: 240312.0, 9: 201093.2, 10: 205730.8, 11: 194600.4, 12: 193478.0, 13: 204507.6, 14: 280065.2, 15: 226675.6, 16: 240136.4, 17: 215881.2, 18: 241484.4, 19: 231120.4, 20: 233664.8, 21: 279163.6, 22: 212046.4, 23: 207487.2, 24: 227290.8, 25: 202117.2, 26: 182802.0, 27: 249453.2, 28: 261579.6, 29: 254460.8, 30: 225621.2, 31: 242612.0, 32: 229348.0, 33: 266538.8, 34: 253531.6, 35: 241464.4, 36: 266200.0, 37: 262597.2, 38: 243741.2, 39: 183554.4, 40: 206008.0, 41: 259612.4, 42: 257894.4, 43: 212159.2, 44: 206875.2, 45: 206267.6, 46: 191340.0, 47: 222956.4, 48: 227516.4, 49: 212476.4, 50: 213384.0, 51: 186510.0, 52: 205663.6, 53: 187422.4, 54: 197423.6, 55: 208425.2, 56: 230912.4}\n",
      "57\n",
      "{1: 221758.4, 2: 178953.6, 3: 192976.8, 4: 220346.8, 5: 210389.2, 6: 200084.8, 7: 265296.4, 8: 244674.0, 9: 240312.0, 10: 201093.2, 11: 205730.8, 12: 194600.4, 13: 193478.0, 14: 204507.6, 15: 280065.2, 16: 226675.6, 17: 240136.4, 18: 215881.2, 19: 241484.4, 20: 231120.4, 21: 233664.8, 22: 279163.6, 23: 212046.4, 24: 207487.2, 25: 227290.8, 26: 202117.2, 27: 182802.0, 28: 249453.2, 29: 261579.6, 30: 254460.8, 31: 225621.2, 32: 242612.0, 33: 229348.0, 34: 266538.8, 35: 253531.6, 36: 241464.4, 37: 266200.0, 38: 262597.2, 39: 243741.2, 40: 183554.4, 41: 206008.0, 42: 259612.4, 43: 257894.4, 44: 212159.2, 45: 206875.2, 46: 206267.6, 47: 191340.0, 48: 222956.4, 49: 227516.4, 50: 212476.4, 51: 213384.0, 52: 186510.0, 53: 205663.6, 54: 187422.4, 55: 197423.6, 56: 208425.2, 57: 230912.4}\n"
     ]
    }
   ],
   "source": [
    "# Lager dictionaries for MJ_route for å senere kunne multiplisere sammen disse verdiene for å få kostnad per rute per fueltype\n",
    "distance_dict = mj_route['mj_route'].to_dict()\n",
    "print(distance_dict)\n",
    "# lager egne distanser for elektrisk\n",
    "\n",
    "# specific_distance_dict = mj_route_el['mj_route'].to_dict()\n",
    "#specific_distance_dict= specific_distance_dict['mj_route']\n",
    "# electric_distance_dict = {key + 1: value for key, value in specific_distance_dict.items()}\n",
    "\n",
    "#print(distance_dict)\n",
    "distance_dict = {key + 1: value for key, value in enumerate(distance_dict.values())}\n",
    "print(len(distance_dict))\n",
    "print(distance_dict)\n"
   ]
  },
  {
   "cell_type": "markdown",
   "metadata": {},
   "source": [
    "##### Compatibility RS"
   ]
  },
  {
   "cell_type": "code",
   "execution_count": 30,
   "metadata": {},
   "outputs": [],
   "source": [
    "# Lager dictionaries for MJ_route for å senere kunne multiplisere sammen disse verdiene for å få kostnad per rute per fueltype\n",
    "demand_dict = demand['Demand'].to_dict()\n",
    "#demand_dict = demand_dict['Demand']\n",
    "\n",
    "# lager egne distanser for elektrisk\n",
    "\n",
    "#specific_demand_dict = demand_el['Demand'].to_dict()\n",
    "#specific_demand_dict= specific_demand_dict['Demand']\n",
    "\n",
    "#electric_demand_dict = {key + 1: value for key, value in specific_demand_dict.items()}\n",
    "\n",
    "demand_dict = {key + 1: value for key, value in demand_dict.items()}\n",
    "\n",
    "\n"
   ]
  },
  {
   "cell_type": "code",
   "execution_count": 31,
   "metadata": {},
   "outputs": [
    {
     "name": "stdout",
     "output_type": "stream",
     "text": [
      "   R  S\n",
      "0  1  1\n",
      "1  1  2\n",
      "2  1  3\n",
      "3  1  4\n",
      "4  1  5\n"
     ]
    }
   ],
   "source": [
    "# Lage combinations for rs\n",
    "# For hver rad med r s, sjekke om kapasiteten i s er større enn eller lik demanden til r. Sett til 1 hvis true, 0 ellers\n",
    "\n",
    "# Create a DataFrame from the combinations\n",
    "df_routecap = pd.DataFrame(combinations_r_s, columns=['R', 'S'])\n",
    "\n",
    "# Display the first few rows of the DataFrame\n",
    "print(df_routecap.head())\n",
    "\n",
    "df_routecap['Value'] = 0\n",
    "\n",
    "# Iterate over the DataFrame\n",
    "for index, row in df_routecap.iterrows():\n",
    "    r = row['R']\n",
    "    s = row['S']\n",
    "    if demand_dict.get(r, 0) <= capacity_systems.get(s, float('inf')):\n",
    "        df_routecap.at[index, 'Value'] = 1\n",
    "    # if s == 11 and electric_demand_dict.get(r, 0) <= capacity_systems.get(s, float('inf')):\n",
    "    #     df_routecap.at[index, 'Value'] = 1\n",
    "\n",
    "#print(df_routecap)"
   ]
  },
  {
   "cell_type": "code",
   "execution_count": 32,
   "metadata": {},
   "outputs": [],
   "source": [
    "with pd.ExcelWriter(output_excel_path, engine='openpyxl', mode='a', if_sheet_exists='replace') as writer:\n",
    "    df_routecap.to_excel(writer, sheet_name='Compatibility rs', index=False)"
   ]
  },
  {
   "cell_type": "markdown",
   "metadata": {},
   "source": [
    "#### Demand for set covering"
   ]
  },
  {
   "cell_type": "code",
   "execution_count": 33,
   "metadata": {},
   "outputs": [
    {
     "name": "stdout",
     "output_type": "stream",
     "text": [
      "     R   Value\n",
      "0    1   85.25\n",
      "1    2   76.00\n",
      "2    3   69.00\n",
      "3    4   65.00\n",
      "4    5   96.25\n",
      "5    6   75.42\n",
      "6    7   75.50\n",
      "7    8   68.00\n",
      "8    9   72.00\n",
      "9   10   79.00\n",
      "10  11   65.00\n",
      "11  12   75.50\n",
      "12  13   63.00\n",
      "13  14   98.00\n",
      "14  15   89.75\n",
      "15  16   93.67\n",
      "16  17   75.50\n",
      "17  18   61.00\n",
      "18  19   93.50\n",
      "19  20   88.50\n",
      "20  21   92.00\n",
      "21  22   86.50\n",
      "22  23   79.50\n",
      "23  24   63.50\n",
      "24  25   95.25\n",
      "25  26   96.25\n",
      "26  27   68.00\n",
      "27  28   79.00\n",
      "28  29   86.50\n",
      "29  30   87.00\n",
      "30  31   79.00\n",
      "31  32   78.50\n",
      "32  33   78.50\n",
      "33  34   89.50\n",
      "34  35   86.50\n",
      "35  36   88.50\n",
      "36  37   95.00\n",
      "37  38   79.00\n",
      "38  39   99.17\n",
      "39  40   93.17\n",
      "40  41   95.00\n",
      "41  42   82.00\n",
      "42  43   91.00\n",
      "43  44   88.00\n",
      "44  45   98.75\n",
      "45  46   98.00\n",
      "46  47   97.17\n",
      "47  48   99.25\n",
      "48  49   99.25\n",
      "49  50   99.25\n",
      "50  51   96.50\n",
      "51  52   99.00\n",
      "52  53   98.67\n",
      "53  54   98.17\n",
      "54  55   98.67\n",
      "55  56   97.00\n",
      "56  57  100.00\n"
     ]
    }
   ],
   "source": [
    "df_demand = pd.DataFrame(list(demand_dict.items()), columns=['R', 'Value'])\n",
    "\n",
    "print(df_demand)"
   ]
  },
  {
   "cell_type": "code",
   "execution_count": 34,
   "metadata": {},
   "outputs": [],
   "source": [
    "with pd.ExcelWriter(output_excel_path, engine='openpyxl', mode='a', if_sheet_exists='replace') as writer:\n",
    "    df_demand.to_excel(writer, sheet_name='Demand route', index=False)"
   ]
  },
  {
   "cell_type": "markdown",
   "metadata": {},
   "source": [
    "##### Cost of fuel per route"
   ]
  },
  {
   "cell_type": "code",
   "execution_count": 35,
   "metadata": {},
   "outputs": [
    {
     "name": "stdout",
     "output_type": "stream",
     "text": [
      "57\n",
      "{1: 221758.4, 2: 178953.6, 3: 192976.8, 4: 220346.8, 5: 210389.2, 6: 200084.8, 7: 265296.4, 8: 244674.0, 9: 240312.0, 10: 201093.2, 11: 205730.8, 12: 194600.4, 13: 193478.0, 14: 204507.6, 15: 280065.2, 16: 226675.6, 17: 240136.4, 18: 215881.2, 19: 241484.4, 20: 231120.4, 21: 233664.8, 22: 279163.6, 23: 212046.4, 24: 207487.2, 25: 227290.8, 26: 202117.2, 27: 182802.0, 28: 249453.2, 29: 261579.6, 30: 254460.8, 31: 225621.2, 32: 242612.0, 33: 229348.0, 34: 266538.8, 35: 253531.6, 36: 241464.4, 37: 266200.0, 38: 262597.2, 39: 243741.2, 40: 183554.4, 41: 206008.0, 42: 259612.4, 43: 257894.4, 44: 212159.2, 45: 206875.2, 46: 206267.6, 47: 191340.0, 48: 222956.4, 49: 227516.4, 50: 212476.4, 51: 213384.0, 52: 186510.0, 53: 205663.6, 54: 187422.4, 55: 197423.6, 56: 208425.2, 57: 230912.4}\n"
     ]
    }
   ],
   "source": [
    "\n",
    "# Lager dictionaries for MJ_route for å senere kunne multiplisere sammen disse verdiene for å få kostnad per rute per fueltype\n",
    "distance_dict = mj_route['mj_route'].to_dict()\n",
    "#distance_dict = distance_dict['mj_route']\n",
    "\n",
    "# lager egne distanser for elektrisk\n",
    "\n",
    "# specific_distance_dict = mj_route_el['mj_route'].to_dict()\n",
    "# #specific_distance_dict= specific_distance_dict['mj_route']\n",
    "# electric_distance_dict = {key + 1: value for key, value in specific_distance_dict.items()}\n",
    "\n",
    "#print(distance_dict)\n",
    "distance_dict = {key + 1: value for key, value in distance_dict.items()}\n",
    "print(len(distance_dict))\n",
    "\n",
    "print(distance_dict)\n",
    "#print(len(electric_distance_dict))"
   ]
  },
  {
   "cell_type": "code",
   "execution_count": 36,
   "metadata": {},
   "outputs": [],
   "source": [
    "# Convert dictionaries to DataFrames\n",
    "df_distance = pd.DataFrame(distance_dict.items(), columns=['R', 'Value'])\n",
    "#df_specific_distance = pd.DataFrame(electric_distance_dict.items(), columns=['R', 'Value'])\n",
    "\n",
    "# Sort DataFrames by 'R' values\n",
    "df_distance = df_distance.sort_values(by='R')\n",
    "#df_specific_distance = df_specific_distance.sort_values(by='R')\n",
    "\n",
    "\n",
    "# print(\"Distance Dictionary DataFrame:\")\n",
    "# print(df_distance)\n",
    "\n",
    "# print(\"\\nSpecific Distance Dictionary DataFrame:\")\n",
    "# print(df_specific_distance)\n",
    "\n",
    "with pd.ExcelWriter(output_excel_path, engine='openpyxl', mode='a', if_sheet_exists='replace') as writer:\n",
    "    df_distance.to_excel(writer, sheet_name='Distance', index=False)\n",
    "\n",
    "# with pd.ExcelWriter(output_excel_path, engine='openpyxl', mode='a', if_sheet_exists='replace') as writer:\n",
    "#     df_specific_distance.to_excel(writer, sheet_name='Specific distance', index=False)"
   ]
  },
  {
   "cell_type": "markdown",
   "metadata": {},
   "source": [
    "Generere alle kombinasjoner av R og F"
   ]
  },
  {
   "cell_type": "code",
   "execution_count": 37,
   "metadata": {},
   "outputs": [
    {
     "name": "stdout",
     "output_type": "stream",
     "text": [
      "   F  R\n",
      "0  1  1\n",
      "1  1  2\n",
      "2  1  3\n",
      "3  1  4\n",
      "4  1  5\n"
     ]
    }
   ],
   "source": [
    "# Create a DataFrame from the combinations\n",
    "df_fuelprice = pd.DataFrame(combinations_f_r, columns=['F', 'R'])\n",
    "\n",
    "# Display the first few rows of the DataFrame\n",
    "print(df_fuelprice.head())\n",
    "\n",
    "\n"
   ]
  },
  {
   "cell_type": "markdown",
   "metadata": {},
   "source": [
    "#### Fuelcost"
   ]
  },
  {
   "cell_type": "code",
   "execution_count": 38,
   "metadata": {},
   "outputs": [],
   "source": [
    "\n",
    "# regner ut verdi for hver kombinasjon av fueltype og rute gitt verdiene i dictionariene over\n",
    "# def calculate_value(row):\n",
    "#     distance = electric_distance_dict[row['R']] if row['F'] == 6 else distance_dict[row['R']]\n",
    "#     return fuel_prices[row['F']] * distance\n",
    "\n",
    "def calculate_value(row):\n",
    "    distance = distance_dict[row['R']]\n",
    "    return fuel_prices[row['F']] * distance\n",
    "\n",
    "# Legger til verdiene i Value-kolonne i dataframen\n",
    "df_fuelprice['Value'] = df_fuelprice.apply(calculate_value, axis=1)\n",
    "\n",
    "# df_fuelprice"
   ]
  },
  {
   "cell_type": "markdown",
   "metadata": {},
   "source": [
    "##### Fuelcost 2"
   ]
  },
  {
   "cell_type": "code",
   "execution_count": null,
   "metadata": {},
   "outputs": [],
   "source": [
    "\n",
    "\n",
    "\n"
   ]
  },
  {
   "cell_type": "code",
   "execution_count": 39,
   "metadata": {},
   "outputs": [
    {
     "data": {
      "text/html": [
       "<div>\n",
       "<style scoped>\n",
       "    .dataframe tbody tr th:only-of-type {\n",
       "        vertical-align: middle;\n",
       "    }\n",
       "\n",
       "    .dataframe tbody tr th {\n",
       "        vertical-align: top;\n",
       "    }\n",
       "\n",
       "    .dataframe thead th {\n",
       "        text-align: right;\n",
       "    }\n",
       "</style>\n",
       "<table border=\"1\" class=\"dataframe\">\n",
       "  <thead>\n",
       "    <tr style=\"text-align: right;\">\n",
       "      <th></th>\n",
       "      <th>F</th>\n",
       "      <th>T</th>\n",
       "      <th>S</th>\n",
       "      <th>Value</th>\n",
       "    </tr>\n",
       "  </thead>\n",
       "  <tbody>\n",
       "    <tr>\n",
       "      <th>0</th>\n",
       "      <td>1</td>\n",
       "      <td>2</td>\n",
       "      <td>1</td>\n",
       "      <td>0.174365</td>\n",
       "    </tr>\n",
       "    <tr>\n",
       "      <th>1</th>\n",
       "      <td>1</td>\n",
       "      <td>3</td>\n",
       "      <td>1</td>\n",
       "      <td>0.174365</td>\n",
       "    </tr>\n",
       "    <tr>\n",
       "      <th>2</th>\n",
       "      <td>1</td>\n",
       "      <td>4</td>\n",
       "      <td>1</td>\n",
       "      <td>0.174365</td>\n",
       "    </tr>\n",
       "    <tr>\n",
       "      <th>3</th>\n",
       "      <td>1</td>\n",
       "      <td>5</td>\n",
       "      <td>1</td>\n",
       "      <td>0.174365</td>\n",
       "    </tr>\n",
       "    <tr>\n",
       "      <th>4</th>\n",
       "      <td>1</td>\n",
       "      <td>2</td>\n",
       "      <td>2</td>\n",
       "      <td>0.154394</td>\n",
       "    </tr>\n",
       "  </tbody>\n",
       "</table>\n",
       "</div>"
      ],
      "text/plain": [
       "   F  T  S     Value\n",
       "0  1  2  1  0.174365\n",
       "1  1  3  1  0.174365\n",
       "2  1  4  1  0.174365\n",
       "3  1  5  1  0.174365\n",
       "4  1  2  2  0.154394"
      ]
     },
     "execution_count": 39,
     "metadata": {},
     "output_type": "execute_result"
    }
   ],
   "source": [
    "fuel_price2_df = pd.read_csv(fuel_price_csv)\n",
    "\n",
    "fuel_price2_df.head()"
   ]
  },
  {
   "cell_type": "markdown",
   "metadata": {},
   "source": [
    "##### Skriver Cost of fuel til excel"
   ]
  },
  {
   "cell_type": "code",
   "execution_count": 40,
   "metadata": {},
   "outputs": [],
   "source": [
    "# Using ExcelWriter to write to the existing Excel file\n",
    "with pd.ExcelWriter(output_excel_path, engine='openpyxl', mode='a', if_sheet_exists='replace') as writer:\n",
    "    fuel_price2_df.to_excel(writer, sheet_name='Cost of fuel 2', index=False)\n",
    "\n",
    "# Using ExcelWriter to write to the existing Excel file\n",
    "with pd.ExcelWriter(output_excel_path, engine='openpyxl', mode='a', if_sheet_exists='replace') as writer:\n",
    "    df_fuelprice.to_excel(writer, sheet_name='Cost of fuel 1', index=False)"
   ]
  },
  {
   "cell_type": "markdown",
   "metadata": {},
   "source": [
    "##### EMISSIONS FOR FUEL TYPE"
   ]
  },
  {
   "cell_type": "markdown",
   "metadata": {},
   "source": [
    "Generere alle kombinasjoner av F og R i kolonnene\n"
   ]
  },
  {
   "cell_type": "code",
   "execution_count": 41,
   "metadata": {},
   "outputs": [
    {
     "name": "stdout",
     "output_type": "stream",
     "text": [
      "   F  R\n",
      "0  1  1\n",
      "1  1  2\n",
      "2  1  3\n",
      "3  1  4\n",
      "4  1  5\n"
     ]
    }
   ],
   "source": [
    "# Create a DataFrame from the combinations\n",
    "df_ems = pd.DataFrame(combinations_ems, columns=['F', 'R'])\n",
    "\n",
    "# Display the first few rows of the DataFrame\n",
    "print(df_ems.head())"
   ]
  },
  {
   "cell_type": "code",
   "execution_count": 42,
   "metadata": {},
   "outputs": [],
   "source": [
    "# multipliserer carbon per MJ per fueltype med distanse seilt per rute. \n",
    "# def calculate_emissions(row):\n",
    "#     distance = electric_distance_dict[row['R']] if row['F'] == 6 else distance_dict[row['R']]\n",
    "#     return emissions_carbon_tonn_per_MJ[row['F']] * distance\n",
    "\n",
    "# def calculate_emissions(row):\n",
    "#     distance = electric_distance_dict[row['R']] if row['F'] == 6 else distance_dict[row['R']]\n",
    "#     return emissions_carbon_tonn_per_MJ[row['F']] * distance\n",
    "def calculate_emissions(row):\n",
    "    distance =  distance_dict[row['R']]\n",
    "    return emissions_carbon_tonn_per_MJ[row['F']] * distance\n",
    "\n",
    "\n",
    "\n",
    "# Apply the function to create a new column 'Value'\n",
    "df_ems['Value'] = df_ems.apply(calculate_emissions, axis=1)\n",
    "\n",
    "\n",
    "# Skriver dataframen med emissions til parameter_data excel filen\n",
    "with pd.ExcelWriter(output_excel_path, engine='openpyxl', mode='a', if_sheet_exists='replace') as writer:\n",
    "    df_ems.to_excel(writer, sheet_name='Emissions', index=False)\n"
   ]
  },
  {
   "cell_type": "markdown",
   "metadata": {},
   "source": [
    "##### MAX EMISSIONS PER TIME PERIOD"
   ]
  },
  {
   "cell_type": "code",
   "execution_count": 43,
   "metadata": {},
   "outputs": [],
   "source": [
    "\n",
    "\n",
    "# Create a DataFrame from the combinations\n",
    "df_max_ems = pd.DataFrame(combinations_t, columns=['T'])\n",
    "\n",
    "# Display the first few rows of the DataFrame\n",
    "# print(df_max_ems)"
   ]
  },
  {
   "cell_type": "code",
   "execution_count": 44,
   "metadata": {},
   "outputs": [
    {
     "data": {
      "text/html": [
       "<div>\n",
       "<style scoped>\n",
       "    .dataframe tbody tr th:only-of-type {\n",
       "        vertical-align: middle;\n",
       "    }\n",
       "\n",
       "    .dataframe tbody tr th {\n",
       "        vertical-align: top;\n",
       "    }\n",
       "\n",
       "    .dataframe thead th {\n",
       "        text-align: right;\n",
       "    }\n",
       "</style>\n",
       "<table border=\"1\" class=\"dataframe\">\n",
       "  <thead>\n",
       "    <tr style=\"text-align: right;\">\n",
       "      <th></th>\n",
       "      <th>T</th>\n",
       "      <th>Value</th>\n",
       "    </tr>\n",
       "  </thead>\n",
       "  <tbody>\n",
       "    <tr>\n",
       "      <th>0</th>\n",
       "      <td>0</td>\n",
       "      <td>165000.0</td>\n",
       "    </tr>\n",
       "    <tr>\n",
       "      <th>1</th>\n",
       "      <td>1</td>\n",
       "      <td>82500.0</td>\n",
       "    </tr>\n",
       "    <tr>\n",
       "      <th>2</th>\n",
       "      <td>2</td>\n",
       "      <td>74250.0</td>\n",
       "    </tr>\n",
       "    <tr>\n",
       "      <th>3</th>\n",
       "      <td>3</td>\n",
       "      <td>49500.0</td>\n",
       "    </tr>\n",
       "    <tr>\n",
       "      <th>4</th>\n",
       "      <td>4</td>\n",
       "      <td>33000.0</td>\n",
       "    </tr>\n",
       "    <tr>\n",
       "      <th>5</th>\n",
       "      <td>5</td>\n",
       "      <td>33000.0</td>\n",
       "    </tr>\n",
       "  </tbody>\n",
       "</table>\n",
       "</div>"
      ],
      "text/plain": [
       "   T     Value\n",
       "0  0  165000.0\n",
       "1  1   82500.0\n",
       "2  2   74250.0\n",
       "3  3   49500.0\n",
       "4  4   33000.0\n",
       "5  5   33000.0"
      ]
     },
     "execution_count": 44,
     "metadata": {},
     "output_type": "execute_result"
    }
   ],
   "source": [
    "\n",
    "\n",
    "# Regner ut max emissions gitt uslippsreduksjonsscenario. Endre scenario-funksjon etter hvilket scenario vi vil kjøre med\n",
    "def calculate_max_emissions(row):\n",
    "    return (1 - reduction_requirements[row['T']]) * init_ems_tonn\n",
    "\n",
    "# Legger til verdiene i Value-kolonne i dataframen\n",
    "df_max_ems['Value'] = df_max_ems.apply(calculate_max_emissions, axis=1)\n",
    "# print(df_max_ems.head())\n",
    "# Skriver dataframen med emissions til parameter_data excel filen\n",
    "with pd.ExcelWriter(output_excel_path, engine='openpyxl', mode='a', if_sheet_exists='replace') as writer:\n",
    "    df_max_ems.to_excel(writer, sheet_name='Max Emissions', index=False)\n",
    "\n",
    "df_max_ems"
   ]
  },
  {
   "cell_type": "markdown",
   "metadata": {},
   "source": [
    "##### TIME USED"
   ]
  },
  {
   "cell_type": "code",
   "execution_count": 45,
   "metadata": {},
   "outputs": [
    {
     "name": "stdout",
     "output_type": "stream",
     "text": [
      "{1: 48.0, 2: 48.0, 3: 48.0, 4: 48.0, 5: 48.0, 6: 48.0, 7: 48.0, 8: 48.0, 9: 48.0, 10: 48.0, 11: 48.0, 12: 48.0, 13: 48.0, 14: 48.0, 15: 48.0, 16: 48.0, 17: 48.0, 18: 48.0, 19: 48.0, 20: 48.0, 21: 48.0, 22: 48.0, 23: 48.0, 24: 48.0, 25: 48.0, 26: 48.0, 27: 48.0, 28: 48.0, 29: 48.0, 30: 48.0, 31: 48.0, 32: 48.0, 33: 48.0, 34: 48.0, 35: 48.0, 36: 48.0, 37: 48.0, 38: 48.0, 39: 48.0, 40: 48.0, 41: 48.0, 42: 48.0, 43: 48.0, 44: 48.0, 45: 48.0, 46: 48.0, 47: 48.0, 48: 48.0, 49: 48.0, 50: 48.0, 51: 48.0, 52: 48.0, 53: 48.0, 54: 48.0, 55: 48.0, 56: 48.0, 57: 48.0}\n",
      "   R  S  Value\n",
      "0  1  1   48.0\n",
      "1  1  2   48.0\n",
      "2  1  3   48.0\n",
      "3  1  4   48.0\n",
      "4  1  5   48.0\n"
     ]
    }
   ],
   "source": [
    "# Create T_rs\n",
    "combinations_r_s = itertools.product(r_values, s_values)\n",
    "df_timeused = pd.DataFrame(combinations_r_s, columns=['R', 'S'])\n",
    "\n",
    "# Lager dictionaries for MJ_route for å senere kunne multiplisere sammen disse verdiene for å få kostnad per rute per fueltype\n",
    "route_dict = hours_route['Hours'].to_dict()\n",
    "hours_route_dict = {key + 1: value for key, value in route_dict.items()}\n",
    "print(hours_route_dict)\n",
    "# lager egne distanser for elektrisk\n",
    "# hours_route_el_dict = hours_route_el['Hours'].to_dict()\n",
    "# hours_route_el_dict = {key + 1: value for key, value in hours_route_el_dict.items()}\n",
    "# print(hours_route_el_dict)\n",
    "\n",
    "\n",
    "def calculate_timeused(row):\n",
    "    value =  hours_route_dict[row['R']]\n",
    "    return value\n",
    "\n",
    "\n",
    "df_timeused['Value'] = df_timeused.apply(calculate_timeused, axis=1)\n",
    "\n",
    "print(df_timeused.head())\n",
    "# Skriver dataframe med emissions til parameter_data excel filen\n",
    "with pd.ExcelWriter(output_excel_path, engine='openpyxl', mode='a', if_sheet_exists='replace') as writer:\n",
    "    df_timeused.to_excel(writer, sheet_name='Time used', index=False)\n"
   ]
  },
  {
   "cell_type": "markdown",
   "metadata": {},
   "source": [
    "#### Installations in route"
   ]
  },
  {
   "cell_type": "code",
   "execution_count": 49,
   "metadata": {},
   "outputs": [
    {
     "name": "stdout",
     "output_type": "stream",
     "text": [
      "{'APT': 1, 'ASL': 2, 'DAB': 3, 'DSA': 4, 'DSS': 5, 'GFAGFBGFC': 6, 'KVB': 7, 'MID': 8, 'NLNVAL': 9, 'OSC': 10, 'OSE': 11, 'OSOVFB': 12, 'OSS': 13, 'STASTB': 14, 'STC': 15, 'TENTRB': 16, 'TEQTRC': 17, 'TRO': 18}\n"
     ]
    }
   ],
   "source": [
    "import csv\n",
    "\n",
    "csv_file = \"../route_generation_mongstad/generated_datafiles_reduced/routes.csv\"\n",
    "excel_file = '../run_model/Parameterdata-sheets.xlsx'\n",
    "\n",
    "# Open the existing Excel workbook\n",
    "workbook = openpyxl.load_workbook(excel_file)\n",
    "sheet = workbook[\"Installations in route\"]\n",
    "\n",
    "# Open the CSV file in text mode and read all lines\n",
    "with open(csv_file, 'r') as file:\n",
    "    lines = file.readlines()\n",
    "\n",
    "# Add column headers if necessary\n",
    "if not sheet['A1'].value:\n",
    "    sheet['A1'] = \"i\"\n",
    "    sheet['B1'] = \"r\"\n",
    "    sheet['C1'] = \"Value\"\n",
    "\n",
    "# Initialize the row index for Excel\n",
    "row_index = 2\n",
    "\n",
    "# Initialize an empty dictionary to store the platform mapping\n",
    "platform_mapping = {}\n",
    "\n",
    "# Path to your CSV file\n",
    "csv_file = \"../route_generation_mongstad/clustering/output_platforms_demand.csv\"\n",
    "\n",
    "# Open the CSV file and read the contents\n",
    "with open(csv_file, newline='') as file:\n",
    "    reader = csv.reader(file, delimiter=';')\n",
    "    next(reader)  # Skip the header row\n",
    "    for row in reader:\n",
    "        platform = row[0]  # Platform name is in the first column\n",
    "        # Assign a number to each platform\n",
    "        platform_mapping[platform] = len(platform_mapping) + 1\n",
    "\n",
    "print(platform_mapping)\n"
   ]
  },
  {
   "cell_type": "code",
   "execution_count": null,
   "metadata": {},
   "outputs": [
    {
     "name": "stdout",
     "output_type": "stream",
     "text": [
      "Data has been successfully written.\n"
     ]
    }
   ],
   "source": [
    "\n",
    "platform_mapping_reverse = {v: k for k, v in platform_mapping.items()}\n",
    "\n",
    "length = len(platform_mapping) +1\n",
    "\n",
    "# Process each line in the CSV file\n",
    "for idx, line in enumerate(lines, start=1):\n",
    "    for i in range(1, length):\n",
    "        sheet.cell(row=row_index, column=2, value=idx)\n",
    "        sheet.cell(row=row_index, column=1, value=i)\n",
    "        platform_name = platform_mapping_reverse.get(i, \"\")  # Get the platform name\n",
    "        if platform_name in line:\n",
    "            sheet.cell(row=row_index, column=3, value=1)\n",
    "        else:\n",
    "            sheet.cell(row=row_index, column=3, value=0)\n",
    "        row_index += 1\n",
    "\n",
    "workbook.save(excel_file)\n",
    "print(\"Data has been successfully written.\")"
   ]
  },
  {
   "cell_type": "code",
   "execution_count": 50,
   "metadata": {},
   "outputs": [
    {
     "name": "stdout",
     "output_type": "stream",
     "text": [
      "{1: '2', 2: '3', 3: '4', 4: '3', 5: '3', 6: '4', 7: '2', 8: '2', 9: '3', 10: '2', 11: '5', 12: '4', 13: '3', 14: '4', 15: '3', 16: '4', 17: '4', 18: '2'}\n"
     ]
    },
    {
     "data": {
      "text/html": [
       "<div>\n",
       "<style scoped>\n",
       "    .dataframe tbody tr th:only-of-type {\n",
       "        vertical-align: middle;\n",
       "    }\n",
       "\n",
       "    .dataframe tbody tr th {\n",
       "        vertical-align: top;\n",
       "    }\n",
       "\n",
       "    .dataframe thead th {\n",
       "        text-align: right;\n",
       "    }\n",
       "</style>\n",
       "<table border=\"1\" class=\"dataframe\">\n",
       "  <thead>\n",
       "    <tr style=\"text-align: right;\">\n",
       "      <th></th>\n",
       "      <th>I</th>\n",
       "      <th>T</th>\n",
       "      <th>Value</th>\n",
       "    </tr>\n",
       "  </thead>\n",
       "  <tbody>\n",
       "    <tr>\n",
       "      <th>0</th>\n",
       "      <td>1</td>\n",
       "      <td>0</td>\n",
       "      <td>2</td>\n",
       "    </tr>\n",
       "    <tr>\n",
       "      <th>1</th>\n",
       "      <td>1</td>\n",
       "      <td>1</td>\n",
       "      <td>2</td>\n",
       "    </tr>\n",
       "    <tr>\n",
       "      <th>2</th>\n",
       "      <td>1</td>\n",
       "      <td>2</td>\n",
       "      <td>2</td>\n",
       "    </tr>\n",
       "    <tr>\n",
       "      <th>3</th>\n",
       "      <td>1</td>\n",
       "      <td>3</td>\n",
       "      <td>2</td>\n",
       "    </tr>\n",
       "    <tr>\n",
       "      <th>4</th>\n",
       "      <td>1</td>\n",
       "      <td>4</td>\n",
       "      <td>2</td>\n",
       "    </tr>\n",
       "    <tr>\n",
       "      <th>...</th>\n",
       "      <td>...</td>\n",
       "      <td>...</td>\n",
       "      <td>...</td>\n",
       "    </tr>\n",
       "    <tr>\n",
       "      <th>103</th>\n",
       "      <td>18</td>\n",
       "      <td>1</td>\n",
       "      <td>2</td>\n",
       "    </tr>\n",
       "    <tr>\n",
       "      <th>104</th>\n",
       "      <td>18</td>\n",
       "      <td>2</td>\n",
       "      <td>2</td>\n",
       "    </tr>\n",
       "    <tr>\n",
       "      <th>105</th>\n",
       "      <td>18</td>\n",
       "      <td>3</td>\n",
       "      <td>2</td>\n",
       "    </tr>\n",
       "    <tr>\n",
       "      <th>106</th>\n",
       "      <td>18</td>\n",
       "      <td>4</td>\n",
       "      <td>2</td>\n",
       "    </tr>\n",
       "    <tr>\n",
       "      <th>107</th>\n",
       "      <td>18</td>\n",
       "      <td>5</td>\n",
       "      <td>2</td>\n",
       "    </tr>\n",
       "  </tbody>\n",
       "</table>\n",
       "<p>108 rows × 3 columns</p>\n",
       "</div>"
      ],
      "text/plain": [
       "      I  T Value\n",
       "0     1  0     2\n",
       "1     1  1     2\n",
       "2     1  2     2\n",
       "3     1  3     2\n",
       "4     1  4     2\n",
       "..   .. ..   ...\n",
       "103  18  1     2\n",
       "104  18  2     2\n",
       "105  18  3     2\n",
       "106  18  4     2\n",
       "107  18  5     2\n",
       "\n",
       "[108 rows x 3 columns]"
      ]
     },
     "execution_count": 50,
     "metadata": {},
     "output_type": "execute_result"
    }
   ],
   "source": [
    "\n",
    "csv_file = '../route_generation_mongstad/clustering/output_platforms_visits.csv'\n",
    "\n",
    "\n",
    "visits_per_week = {}\n",
    "with open(csv_file, newline='') as file:\n",
    "    reader = csv.reader(file, delimiter=';')\n",
    "    next(reader)  # Skip the header row\n",
    "    i = 1\n",
    "    for row in reader:\n",
    "        platform = row[0]  # Platform name is in the first column\n",
    "        # Assign a number to each platform\n",
    "        # Assign a number to each platform\n",
    "        visits_per_week[i] = row[1]\n",
    "        i += 1\n",
    "\n",
    "i_values = range(1, len(platform_mapping)+1)\n",
    "print(visits_per_week)\n",
    "\n",
    "combinations_i_t = itertools.product(i_values, t_values)\n",
    "df_demand = pd.DataFrame(combinations_i_t, columns=['I', 'T'])\n",
    "# Iterate over rows in the DataFrame\n",
    "df_demand['Value'] = df_demand['I'].map(lambda x: visits_per_week[x])\n",
    "\n",
    "\n",
    "\n",
    "df_demand"
   ]
  },
  {
   "cell_type": "code",
   "execution_count": 51,
   "metadata": {},
   "outputs": [],
   "source": [
    "with pd.ExcelWriter(output_excel_path, engine='openpyxl', mode='a', if_sheet_exists='replace') as writer:\n",
    "    df_demand.to_excel(writer, sheet_name='Demand', index=False)"
   ]
  }
 ],
 "metadata": {
  "kernelspec": {
   "display_name": "prosjektoppgave",
   "language": "python",
   "name": "python3"
  },
  "language_info": {
   "codemirror_mode": {
    "name": "ipython",
    "version": 3
   },
   "file_extension": ".py",
   "mimetype": "text/x-python",
   "name": "python",
   "nbconvert_exporter": "python",
   "pygments_lexer": "ipython3",
   "version": "3.11.5"
  }
 },
 "nbformat": 4,
 "nbformat_minor": 2
}
