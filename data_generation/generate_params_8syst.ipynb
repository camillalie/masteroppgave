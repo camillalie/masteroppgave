{
 "cells": [
  {
   "cell_type": "code",
   "execution_count": 6,
   "metadata": {},
   "outputs": [],
   "source": [
    "import pandas as pd\n",
    "import itertools\n",
    "import numpy as np\n",
    "import openpyxl\n",
    "# from scenario_generation import generate_fuel_prices\n"
   ]
  },
  {
   "cell_type": "markdown",
   "metadata": {},
   "source": [
    "### SETS"
   ]
  },
  {
   "cell_type": "code",
   "execution_count": 7,
   "metadata": {},
   "outputs": [
    {
     "name": "stdout",
     "output_type": "stream",
     "text": [
      "1\n",
      "2\n",
      "3\n",
      "4\n",
      "5\n",
      "6\n"
     ]
    }
   ],
   "source": [
    "fuel_price_csv = 'fuel_price2_27s.csv'\n",
    "route_case = 'mongstad'\n",
    "mappenavn = 'cluster11_new/'\n",
    "startfil = ''\n",
    "antall_ruter = 39\n",
    "clusters = 11\n",
    "scenarios = 27\n",
    "# Velg antall av de ulike settene her\n",
    "#set_sheets = {'Power systems': 11, 'Ages': 6, 'Routes': 3122, 'Time periods':6, 'Time periods 1': 2, 'Time periods 2':4, 'Fuel types': 10, 'Installations': 18, 'Scenarios': 100}\n",
    "\n",
    "t_values = range(0, 6)  # time period from 1 to 6\n",
    "t1_values = range(0, 2)\n",
    "t2_values = range(2, 6)\n",
    "tp2_values = range(2,7)\n",
    "f_values = range(1, 7)  # Assuming you want values from 1 to 7 for 'f'\n",
    "r_values = range(1, antall_ruter + 1)  # Assuming you want values from 1 to 3122 for 'r'\n",
    "n_values = range(1, clusters + 1) # 18 installations\n",
    "s_values = range(1, 9) # 11 systems\n",
    "w_values = range(1, scenarios + 1) # 100 scenarios\n",
    "a_values = range(0, 6)\n",
    "\n",
    "for t in f_values:\n",
    "    print(t)\n"
   ]
  },
  {
   "cell_type": "code",
   "execution_count": 8,
   "metadata": {},
   "outputs": [],
   "source": [
    "# Skriver alle sets med verdier definert over til excel\n",
    "\n",
    "sets_excel_output_path = '../run_model/SetData-sheets.xlsx'\n",
    "\n",
    "set_sheets = {\n",
    "    'Power systems': s_values,\n",
    "    'Ages': a_values,\n",
    "    'Routes': r_values,\n",
    "    'Time periods': t_values,\n",
    "    'Time periods 1': t1_values,\n",
    "    'Time periods 2': t2_values,\n",
    "    'TP2 scrap': tp2_values,\n",
    "    'Fuel types': f_values,\n",
    "    'Installations': n_values,\n",
    "    'Scenarios': w_values\n",
    "}\n",
    "\n",
    "# Create data frames for each set and write to Excel\n",
    "with pd.ExcelWriter(sets_excel_output_path, engine='openpyxl') as writer:\n",
    "    for sheet, values in set_sheets.items():\n",
    "        # Create a DataFrame for the current set\n",
    "        df = pd.DataFrame(itertools.product(values), columns=[sheet])\n",
    "\n",
    "        # Write the DataFrame to the Excel file with the current sheet name\n",
    "        df.to_excel(writer, sheet_name=sheet, index=False)"
   ]
  },
  {
   "cell_type": "markdown",
   "metadata": {},
   "source": [
    "#### Generere kombinasjoner av indekser til parameterne"
   ]
  },
  {
   "cell_type": "code",
   "execution_count": 9,
   "metadata": {},
   "outputs": [],
   "source": [
    "\n",
    "combinations_f_r = itertools.product(f_values, r_values)\n",
    "combinations_ems = itertools.product(s_values, r_values)\n",
    "combinations_r_s = itertools.product(r_values, s_values)\n",
    "combinations_t = itertools.product(t_values)\n",
    "combinations_s_a = itertools.product(s_values, a_values)\n",
    "combinations_f_r_w = itertools.product(f_values, r_values, w_values)\n",
    "combinations_w = itertools.product(w_values)\n",
    "combinations_r = itertools.product(r_values)"
   ]
  },
  {
   "cell_type": "markdown",
   "metadata": {},
   "source": [
    "#### Inputdata"
   ]
  },
  {
   "cell_type": "code",
   "execution_count": 10,
   "metadata": {},
   "outputs": [
    {
     "data": {
      "text/html": [
       "<div>\n",
       "<style scoped>\n",
       "    .dataframe tbody tr th:only-of-type {\n",
       "        vertical-align: middle;\n",
       "    }\n",
       "\n",
       "    .dataframe tbody tr th {\n",
       "        vertical-align: top;\n",
       "    }\n",
       "\n",
       "    .dataframe thead th {\n",
       "        text-align: right;\n",
       "    }\n",
       "</style>\n",
       "<table border=\"1\" class=\"dataframe\">\n",
       "  <thead>\n",
       "    <tr style=\"text-align: right;\">\n",
       "      <th></th>\n",
       "      <th>T</th>\n",
       "      <th>Value</th>\n",
       "    </tr>\n",
       "  </thead>\n",
       "  <tbody>\n",
       "    <tr>\n",
       "      <th>0</th>\n",
       "      <td>0</td>\n",
       "      <td>1000000</td>\n",
       "    </tr>\n",
       "    <tr>\n",
       "      <th>1</th>\n",
       "      <td>1</td>\n",
       "      <td>1000000</td>\n",
       "    </tr>\n",
       "    <tr>\n",
       "      <th>2</th>\n",
       "      <td>2</td>\n",
       "      <td>1000000</td>\n",
       "    </tr>\n",
       "    <tr>\n",
       "      <th>3</th>\n",
       "      <td>3</td>\n",
       "      <td>1000000</td>\n",
       "    </tr>\n",
       "    <tr>\n",
       "      <th>4</th>\n",
       "      <td>4</td>\n",
       "      <td>1000000</td>\n",
       "    </tr>\n",
       "    <tr>\n",
       "      <th>5</th>\n",
       "      <td>5</td>\n",
       "      <td>1000000</td>\n",
       "    </tr>\n",
       "  </tbody>\n",
       "</table>\n",
       "</div>"
      ],
      "text/plain": [
       "   T    Value\n",
       "0  0  1000000\n",
       "1  1  1000000\n",
       "2  2  1000000\n",
       "3  3  1000000\n",
       "4  4  1000000\n",
       "5  5  1000000"
      ]
     },
     "execution_count": 10,
     "metadata": {},
     "output_type": "execute_result"
    }
   ],
   "source": [
    "combinations_ems = itertools.product(s_values, r_values)\n",
    "combinations_t = itertools.product(t_values)\n",
    "# Hardkodet inn fuelpris per MJ per fueltype 1-6\n",
    "fuel_prices = {1: 0.171, 2:0.163, 3:0.514, 4:0.328, 5:0.222, 6:0.297}\n",
    "\n",
    "\n",
    "\n",
    "\n",
    "# fuel_dict = {\n",
    "#     1: (0.178, 0.094, 'fossil'),      # MGO\n",
    "#     2: (0.146, 0.073, 'fossil'),      # LNG\n",
    "#     3: (0.491, 0.261, 'green_fuels'), # GREEN METHANOL\n",
    "#     4: (0.324, 0.178, 'green_fuels'), # GREEN NH3\n",
    "#     5: (0.278, 0.147, 'bio'),         # B30\n",
    "#     6: (0.245, 0.130, 'bio'),         # B20\n",
    "#     7: (0.228, 0.121, 'bio'),         # B15\n",
    "#     8: (0.201, 0.106, 'bio'),         # B7\n",
    "#     9: (0.301, 0.129, 'green_fuels')  # Helelektrisk\n",
    "# }\n",
    " # Example fuel bounds with group information\n",
    "\n",
    "\n",
    "# Karbonutslipp per MJ som er brukt for hvert system\n",
    "emissions_carbon_tonn_per_MJ_wtw = {1: 0.000182, 2: 0.000153, 3: 0.000033, 4: 0.000033, 5: 0.000145, 6: 0.000122, 7: 0.000026, 8: 0.000026, 9: 0.000033, 10: 0.000033, 11: 0.000104, 12: 0.000053, 13:0.000058 }\n",
    "emissions_carbon_tonn_per_MJ_lind = {1: 0.000182, 2: 0.000153, 3: 0.000002, 4: 0.000011, 5: 0.000145, 6: 0.000122, 7: 0.000002, 8: 0.000008, 9: 0.000002, 10: 0.000011, 11: 0.000102, 12: 0.000053, 13:0.000058 }\n",
    "emissions_carbon_tonn_per_MJ = emissions_carbon_tonn_per_MJ_lind\n",
    "\n",
    "\n",
    "# Regne ut reduksjonskrav for karbonutslipp\n",
    "init_ems_tonn = 1000000 #91608 # 137000\n",
    "\n",
    "reductions_10_kutt = {0: 1, 1: 0.98, 2: 0.96, 3: 0.94, 4: 0.92, 5: 0.90} \n",
    "reductions_20_kutt = {0: 1, 1: 0.96, 2: 0.92, 3: 0.88, 4: 0.84, 5: 0.80} \n",
    "reductions_30_kutt = {0: 1, 1: 0.94, 2: 0.88, 3: 0.82, 4: 0.76, 5: 0.70} \n",
    "reductions_40_kutt = {0: 1, 1: 0.92, 2: 0.84, 3: 0.76, 4: 0.68, 5: 0.60} \n",
    "reductions_50_kutt = {0: 1, 1: 0.90, 2: 0.80, 3: 0.70, 4: 0.60, 5: 0.50} \n",
    "reductions_60_kutt = {0: 1, 1: 0.88, 2: 0.76, 3: 0.64, 4: 0.52, 5: 0.40} \n",
    "reductions_70_kutt = {0: 1, 1: 0.86, 2: 0.72, 3: 0.58, 4: 0.44, 5: 0.30} \n",
    "reductions_80_kutt = {0: 1, 1: 0.84, 2: 0.68, 3: 0.52, 4: 0.36, 5: 0.20} \n",
    "reductions_0_kutt = {0: 1, 1: 1, 2: 1, 3: 1, 4: 1, 5: 1}\n",
    "\n",
    "reductions_imo_kutt = {0: 1, 1: 0.80, 2: 0.80, 3: 0.30, 4: 0.30, 5: 0.20}\n",
    "reductions_lindstad_kutt = {0: 1, 1: 0.80, 2: 0.80, 3: 0.30, 4: 0.30, 5: 0.05}\n",
    "# Velg hvilket scenario som skal kjøres\n",
    "reduction_requirements = reductions_0_kutt\n",
    "\n",
    "capacity_systems = {1: 100, 2: 100, 3: 100, 4: 90, 5: 90, 6: 90, 7: 90, 8: 90}\n",
    "\n",
    "# # Leser inn nødvendig MJ på å kjøre hver rute\n",
    "mj_route = pd.read_csv(f'../route_generation_{route_case}/{mappenavn}{startfil}mj_route.csv')\n",
    "\n",
    "# # Leser inn tid på å kjøre hver rute\n",
    "hours_route = pd.read_csv(f'../route_generation_{route_case}/{mappenavn}{startfil}hours_route.csv')\n",
    "\n",
    "lossing_route = pd.read_csv(f'../route_generation_{route_case}/{mappenavn}{startfil}duration_lossing.csv')\n",
    "sailing_route = pd.read_csv(f'../route_generation_{route_case}/{mappenavn}{startfil}duration_sailing.csv')\n",
    "#idle_time = 8\n",
    "#demand_el = pd.read_csv('../route_generation/generated_datafiles_reduced/demand_strøm.csv')\n",
    "demand = pd.read_csv(f'../route_generation_{route_case}/{mappenavn}{startfil}demand.csv')\n",
    "\n",
    "routes_file = f\"../route_generation_{route_case}/{mappenavn}{startfil}routes.csv\"\n",
    "excel_file = '../run_model/Parameterdata.xlsx'\n",
    "platform_demand = f\"../route_generation_{route_case}/{mappenavn}output_platforms_demand.csv\"\n",
    "csv_platform_visits = f'../route_generation_{route_case}/{mappenavn}output_platforms_visits.csv'\n",
    "\n",
    "# Skriver verdiene tilbake i excelfilen for alle parametrene\n",
    "output_excel_path = '../run_model/Parameterdata.xlsx'\n",
    "\n",
    "# Create a DataFrame from the combinations\n",
    "df_max_ems = pd.DataFrame(combinations_t, columns=['T'])\n",
    "\n",
    "# Regner ut max emissions gitt uslippsreduksjonsscenario. Endre scenario-funksjon etter hvilket scenario vi vil kjøre med\n",
    "def calculate_max_emissions(row):\n",
    "    return (reduction_requirements[row['T']]) * init_ems_tonn\n",
    "\n",
    "# Legger til verdiene i Value-kolonne i dataframen\n",
    "df_max_ems['Value'] = df_max_ems.apply(calculate_max_emissions, axis=1)\n",
    "\n",
    "# Skriver dataframen med emissions til parameter_data excel filen\n",
    "with pd.ExcelWriter(output_excel_path, engine='openpyxl', mode='a', if_sheet_exists='replace') as writer:\n",
    "    df_max_ems.to_excel(writer, sheet_name='Max Emissions', index=False)\n",
    "\n",
    "df_max_ems"
   ]
  },
  {
   "cell_type": "markdown",
   "metadata": {},
   "source": [
    "#### Lese inn data fra rutegenereringsprogrammet"
   ]
  },
  {
   "cell_type": "code",
   "execution_count": null,
   "metadata": {},
   "outputs": [],
   "source": [
    "\n",
    "\n",
    "\n",
    "\n"
   ]
  },
  {
   "cell_type": "markdown",
   "metadata": {},
   "source": [
    "### Max emissions"
   ]
  },
  {
   "cell_type": "code",
   "execution_count": null,
   "metadata": {},
   "outputs": [],
   "source": []
  },
  {
   "cell_type": "markdown",
   "metadata": {},
   "source": [
    "##### Generere P_w"
   ]
  },
  {
   "cell_type": "code",
   "execution_count": 11,
   "metadata": {},
   "outputs": [
    {
     "data": {
      "text/html": [
       "<div>\n",
       "<style scoped>\n",
       "    .dataframe tbody tr th:only-of-type {\n",
       "        vertical-align: middle;\n",
       "    }\n",
       "\n",
       "    .dataframe tbody tr th {\n",
       "        vertical-align: top;\n",
       "    }\n",
       "\n",
       "    .dataframe thead th {\n",
       "        text-align: right;\n",
       "    }\n",
       "</style>\n",
       "<table border=\"1\" class=\"dataframe\">\n",
       "  <thead>\n",
       "    <tr style=\"text-align: right;\">\n",
       "      <th></th>\n",
       "      <th>O</th>\n",
       "      <th>Value</th>\n",
       "    </tr>\n",
       "  </thead>\n",
       "  <tbody>\n",
       "    <tr>\n",
       "      <th>0</th>\n",
       "      <td>1</td>\n",
       "      <td>0.037037</td>\n",
       "    </tr>\n",
       "    <tr>\n",
       "      <th>1</th>\n",
       "      <td>2</td>\n",
       "      <td>0.037037</td>\n",
       "    </tr>\n",
       "    <tr>\n",
       "      <th>2</th>\n",
       "      <td>3</td>\n",
       "      <td>0.037037</td>\n",
       "    </tr>\n",
       "    <tr>\n",
       "      <th>3</th>\n",
       "      <td>4</td>\n",
       "      <td>0.037037</td>\n",
       "    </tr>\n",
       "    <tr>\n",
       "      <th>4</th>\n",
       "      <td>5</td>\n",
       "      <td>0.037037</td>\n",
       "    </tr>\n",
       "  </tbody>\n",
       "</table>\n",
       "</div>"
      ],
      "text/plain": [
       "   O     Value\n",
       "0  1  0.037037\n",
       "1  2  0.037037\n",
       "2  3  0.037037\n",
       "3  4  0.037037\n",
       "4  5  0.037037"
      ]
     },
     "execution_count": 11,
     "metadata": {},
     "output_type": "execute_result"
    }
   ],
   "source": [
    "df_probability = pd.DataFrame(combinations_w, columns=['O'])\n",
    "\n",
    "df_probability['Value'] = 1/len(list(w_values))\n",
    "\n",
    "df_probability.head()\n"
   ]
  },
  {
   "cell_type": "code",
   "execution_count": 12,
   "metadata": {},
   "outputs": [],
   "source": [
    "\n",
    "with pd.ExcelWriter(output_excel_path, engine='openpyxl', mode='a', if_sheet_exists='replace') as writer:\n",
    "    df_probability.to_excel(writer, sheet_name='Probability', index=False)"
   ]
  },
  {
   "cell_type": "code",
   "execution_count": 13,
   "metadata": {},
   "outputs": [
    {
     "name": "stdout",
     "output_type": "stream",
     "text": [
      "{1: 'mj_route'}\n"
     ]
    }
   ],
   "source": [
    "distance_dict = {}\n",
    "\n",
    "for idx, value in enumerate(mj_route,1):\n",
    "    distance_dict[idx] = value\n",
    "\n",
    "print(distance_dict)"
   ]
  },
  {
   "cell_type": "markdown",
   "metadata": {},
   "source": [
    "##### Distance dict for compatibility og cost of fuel"
   ]
  },
  {
   "cell_type": "code",
   "execution_count": 14,
   "metadata": {},
   "outputs": [
    {
     "name": "stdout",
     "output_type": "stream",
     "text": [
      "{0: 115717.2, 1: 99089.6, 2: 163154.8, 3: 144750.4, 4: 150066.0, 5: 164527.6, 6: 134265.2, 7: 110290.4, 8: 141918.4, 9: 115109.6, 10: 203582.4, 11: 194053.2, 12: 137373.6, 13: 126684.8, 14: 149149.2, 15: 198490.8, 16: 158307.2, 17: 195992.8, 18: 135756.8, 19: 140954.8, 20: 207106.0, 21: 157551.6, 22: 194720.8, 23: 209602.4, 24: 195461.2, 25: 200632.8, 26: 125915.2, 27: 159215.2, 28: 131124.8, 29: 209090.4, 30: 214005.2, 31: 201898.4, 32: 186114.4, 33: 191687.6, 34: 206858.0, 35: 148819.6, 36: 212471.2, 37: 207797.2, 38: 143097.2}\n",
      "39\n",
      "{1: 115717.2, 2: 99089.6, 3: 163154.8, 4: 144750.4, 5: 150066.0, 6: 164527.6, 7: 134265.2, 8: 110290.4, 9: 141918.4, 10: 115109.6, 11: 203582.4, 12: 194053.2, 13: 137373.6, 14: 126684.8, 15: 149149.2, 16: 198490.8, 17: 158307.2, 18: 195992.8, 19: 135756.8, 20: 140954.8, 21: 207106.0, 22: 157551.6, 23: 194720.8, 24: 209602.4, 25: 195461.2, 26: 200632.8, 27: 125915.2, 28: 159215.2, 29: 131124.8, 30: 209090.4, 31: 214005.2, 32: 201898.4, 33: 186114.4, 34: 191687.6, 35: 206858.0, 36: 148819.6, 37: 212471.2, 38: 207797.2, 39: 143097.2}\n"
     ]
    }
   ],
   "source": [
    "# Lager dictionaries for MJ_route for å senere kunne multiplisere sammen disse verdiene for å få kostnad per rute per fueltype\n",
    "distance_dict = mj_route['mj_route'].to_dict()\n",
    "print(distance_dict)\n",
    "# lager egne distanser for elektrisk\n",
    "\n",
    "# specific_distance_dict = mj_route_el['mj_route'].to_dict()\n",
    "#specific_distance_dict= specific_distance_dict['mj_route']\n",
    "# electric_distance_dict = {key + 1: value for key, value in specific_distance_dict.items()}\n",
    "\n",
    "#print(distance_dict)\n",
    "distance_dict = {key + 1: value for key, value in enumerate(distance_dict.values())}\n",
    "print(len(distance_dict))\n",
    "print(distance_dict)\n"
   ]
  },
  {
   "cell_type": "markdown",
   "metadata": {},
   "source": [
    "##### Compatibility RS"
   ]
  },
  {
   "cell_type": "code",
   "execution_count": 15,
   "metadata": {},
   "outputs": [],
   "source": [
    "# Lager dictionaries for MJ_route for å senere kunne multiplisere sammen disse verdiene for å få kostnad per rute per fueltype\n",
    "demand_dict = demand['Demand'].to_dict()\n",
    "#demand_dict = demand_dict['Demand']\n",
    "\n",
    "# lager egne distanser for elektrisk\n",
    "\n",
    "#specific_demand_dict = demand_el['Demand'].to_dict()\n",
    "#specific_demand_dict= specific_demand_dict['Demand']\n",
    "\n",
    "#electric_demand_dict = {key + 1: value for key, value in specific_demand_dict.items()}\n",
    "\n",
    "demand_dict = {key + 1: value for key, value in demand_dict.items()}\n",
    "\n",
    "\n"
   ]
  },
  {
   "cell_type": "code",
   "execution_count": 16,
   "metadata": {},
   "outputs": [
    {
     "name": "stdout",
     "output_type": "stream",
     "text": [
      "   R  S\n",
      "0  1  1\n",
      "1  1  2\n",
      "2  1  3\n",
      "3  1  4\n",
      "4  1  5\n"
     ]
    }
   ],
   "source": [
    "# Lage combinations for rs\n",
    "# For hver rad med r s, sjekke om kapasiteten i s er større enn eller lik demanden til r. Sett til 1 hvis true, 0 ellers\n",
    "\n",
    "# Create a DataFrame from the combinations\n",
    "df_routecap = pd.DataFrame(combinations_r_s, columns=['R', 'S'])\n",
    "\n",
    "# Display the first few rows of the DataFrame\n",
    "print(df_routecap.head())\n",
    "\n",
    "df_routecap['Value'] = 0\n",
    "\n",
    "# Iterate over the DataFrame\n",
    "for index, row in df_routecap.iterrows():\n",
    "    r = row['R']\n",
    "    s = row['S']\n",
    "    if demand_dict.get(r, 0) <= capacity_systems.get(s, float('inf')):\n",
    "        df_routecap.at[index, 'Value'] = 1\n",
    "    # if s == 11 and electric_demand_dict.get(r, 0) <= capacity_systems.get(s, float('inf')):\n",
    "    #     df_routecap.at[index, 'Value'] = 1\n",
    "\n",
    "#print(df_routecap)"
   ]
  },
  {
   "cell_type": "code",
   "execution_count": 17,
   "metadata": {},
   "outputs": [],
   "source": [
    "with pd.ExcelWriter(output_excel_path, engine='openpyxl', mode='a', if_sheet_exists='replace') as writer:\n",
    "    df_routecap.to_excel(writer, sheet_name='Compatibility rs', index=False)"
   ]
  },
  {
   "cell_type": "markdown",
   "metadata": {},
   "source": [
    "\n",
    "### Compatibility fs oppdateres manuelt!"
   ]
  },
  {
   "cell_type": "markdown",
   "metadata": {},
   "source": [
    "#### Demand for set covering"
   ]
  },
  {
   "cell_type": "code",
   "execution_count": 18,
   "metadata": {},
   "outputs": [
    {
     "name": "stdout",
     "output_type": "stream",
     "text": [
      "     R      Value\n",
      "0    1  30.000000\n",
      "1    2  40.000000\n",
      "2    3  29.000000\n",
      "3    4  32.000000\n",
      "4    5  56.500000\n",
      "5    6  44.000000\n",
      "6    7  25.000000\n",
      "7    8  21.200000\n",
      "8    9  37.750000\n",
      "9   10  58.000000\n",
      "10  11  55.000000\n",
      "11  12  70.333333\n",
      "12  13  39.333333\n",
      "13  14  52.400000\n",
      "14  15  60.250000\n",
      "15  16  47.750000\n",
      "16  17  57.000000\n",
      "17  18  69.000000\n",
      "18  19  46.666667\n",
      "19  20  36.200000\n",
      "20  21  56.500000\n",
      "21  22  61.250000\n",
      "22  23  67.500000\n",
      "23  24  73.000000\n",
      "24  25  47.333333\n",
      "25  26  69.000000\n",
      "26  27  26.800000\n",
      "27  28  44.750000\n",
      "28  29  59.600000\n",
      "29  30  64.333333\n",
      "30  31  79.000000\n",
      "31  32  77.333333\n",
      "32  33  67.250000\n",
      "33  34  80.000000\n",
      "34  35  72.333333\n",
      "35  36  41.800000\n",
      "36  37  63.500000\n",
      "37  38  73.250000\n",
      "38  39  62.400000\n"
     ]
    }
   ],
   "source": [
    "df_demand = pd.DataFrame(list(demand_dict.items()), columns=['R', 'Value'])\n",
    "\n",
    "print(df_demand)"
   ]
  },
  {
   "cell_type": "code",
   "execution_count": 19,
   "metadata": {},
   "outputs": [],
   "source": [
    "with pd.ExcelWriter(output_excel_path, engine='openpyxl', mode='a', if_sheet_exists='replace') as writer:\n",
    "    df_demand.to_excel(writer, sheet_name='Demand route', index=False)"
   ]
  },
  {
   "cell_type": "markdown",
   "metadata": {},
   "source": [
    "##### Cost of fuel per route"
   ]
  },
  {
   "cell_type": "code",
   "execution_count": 20,
   "metadata": {},
   "outputs": [
    {
     "name": "stdout",
     "output_type": "stream",
     "text": [
      "39\n",
      "{1: 115717.2, 2: 99089.6, 3: 163154.8, 4: 144750.4, 5: 150066.0, 6: 164527.6, 7: 134265.2, 8: 110290.4, 9: 141918.4, 10: 115109.6, 11: 203582.4, 12: 194053.2, 13: 137373.6, 14: 126684.8, 15: 149149.2, 16: 198490.8, 17: 158307.2, 18: 195992.8, 19: 135756.8, 20: 140954.8, 21: 207106.0, 22: 157551.6, 23: 194720.8, 24: 209602.4, 25: 195461.2, 26: 200632.8, 27: 125915.2, 28: 159215.2, 29: 131124.8, 30: 209090.4, 31: 214005.2, 32: 201898.4, 33: 186114.4, 34: 191687.6, 35: 206858.0, 36: 148819.6, 37: 212471.2, 38: 207797.2, 39: 143097.2}\n"
     ]
    }
   ],
   "source": [
    "\n",
    "# Lager dictionaries for MJ_route for å senere kunne multiplisere sammen disse verdiene for å få kostnad per rute per fueltype\n",
    "distance_dict = mj_route['mj_route'].to_dict()\n",
    "#distance_dict = distance_dict['mj_route']\n",
    "\n",
    "# lager egne distanser for elektrisk\n",
    "\n",
    "# specific_distance_dict = mj_route_el['mj_route'].to_dict()\n",
    "# #specific_distance_dict= specific_distance_dict['mj_route']\n",
    "# electric_distance_dict = {key + 1: value for key, value in specific_distance_dict.items()}\n",
    "\n",
    "#print(distance_dict)\n",
    "distance_dict = {key + 1: value for key, value in distance_dict.items()}\n",
    "print(len(distance_dict))\n",
    "\n",
    "print(distance_dict)\n",
    "#print(len(electric_distance_dict))"
   ]
  },
  {
   "cell_type": "code",
   "execution_count": 21,
   "metadata": {},
   "outputs": [],
   "source": [
    "# Convert dictionaries to DataFrames\n",
    "df_distance = pd.DataFrame(distance_dict.items(), columns=['R', 'Value'])\n",
    "\n",
    "# Sort DataFrames by 'R' values\n",
    "df_distance = df_distance.sort_values(by='R')\n",
    "\n",
    "with pd.ExcelWriter(output_excel_path, engine='openpyxl', mode='a', if_sheet_exists='replace') as writer:\n",
    "    df_distance.to_excel(writer, sheet_name='Distance', index=False)"
   ]
  },
  {
   "cell_type": "markdown",
   "metadata": {},
   "source": [
    "Generere alle kombinasjoner av R og F"
   ]
  },
  {
   "cell_type": "code",
   "execution_count": 22,
   "metadata": {},
   "outputs": [
    {
     "name": "stdout",
     "output_type": "stream",
     "text": [
      "   F  R\n",
      "0  1  1\n",
      "1  1  2\n",
      "2  1  3\n",
      "3  1  4\n",
      "4  1  5\n"
     ]
    }
   ],
   "source": [
    "# Create a DataFrame from the combinations\n",
    "df_fuelprice = pd.DataFrame(combinations_f_r, columns=['F', 'R'])\n",
    "\n",
    "# Display the first few rows of the DataFrame\n",
    "print(df_fuelprice.head())"
   ]
  },
  {
   "cell_type": "markdown",
   "metadata": {},
   "source": [
    "#### Fuelcost"
   ]
  },
  {
   "cell_type": "code",
   "execution_count": 23,
   "metadata": {},
   "outputs": [],
   "source": [
    "\n",
    "\n",
    "def calculate_value(row):\n",
    "    distance = distance_dict[row['R']]\n",
    "    return fuel_prices[row['F']] * distance\n",
    "\n",
    "# Legger til verdiene i Value-kolonne i dataframen\n",
    "df_fuelprice['Value'] = df_fuelprice.apply(calculate_value, axis=1)\n",
    "\n",
    "# df_fuelprice"
   ]
  },
  {
   "cell_type": "markdown",
   "metadata": {},
   "source": [
    "##### Fuelcost 2"
   ]
  },
  {
   "cell_type": "code",
   "execution_count": null,
   "metadata": {},
   "outputs": [],
   "source": [
    "\n",
    "\n",
    "\n"
   ]
  },
  {
   "cell_type": "code",
   "execution_count": 24,
   "metadata": {},
   "outputs": [
    {
     "data": {
      "text/html": [
       "<div>\n",
       "<style scoped>\n",
       "    .dataframe tbody tr th:only-of-type {\n",
       "        vertical-align: middle;\n",
       "    }\n",
       "\n",
       "    .dataframe tbody tr th {\n",
       "        vertical-align: top;\n",
       "    }\n",
       "\n",
       "    .dataframe thead th {\n",
       "        text-align: right;\n",
       "    }\n",
       "</style>\n",
       "<table border=\"1\" class=\"dataframe\">\n",
       "  <thead>\n",
       "    <tr style=\"text-align: right;\">\n",
       "      <th></th>\n",
       "      <th>F</th>\n",
       "      <th>T</th>\n",
       "      <th>S</th>\n",
       "      <th>Value</th>\n",
       "    </tr>\n",
       "  </thead>\n",
       "  <tbody>\n",
       "    <tr>\n",
       "      <th>0</th>\n",
       "      <td>1</td>\n",
       "      <td>2</td>\n",
       "      <td>1</td>\n",
       "      <td>0.1730</td>\n",
       "    </tr>\n",
       "    <tr>\n",
       "      <th>1</th>\n",
       "      <td>1</td>\n",
       "      <td>3</td>\n",
       "      <td>1</td>\n",
       "      <td>0.1746</td>\n",
       "    </tr>\n",
       "    <tr>\n",
       "      <th>2</th>\n",
       "      <td>1</td>\n",
       "      <td>4</td>\n",
       "      <td>1</td>\n",
       "      <td>0.1761</td>\n",
       "    </tr>\n",
       "    <tr>\n",
       "      <th>3</th>\n",
       "      <td>1</td>\n",
       "      <td>5</td>\n",
       "      <td>1</td>\n",
       "      <td>0.1777</td>\n",
       "    </tr>\n",
       "    <tr>\n",
       "      <th>4</th>\n",
       "      <td>2</td>\n",
       "      <td>2</td>\n",
       "      <td>1</td>\n",
       "      <td>0.1586</td>\n",
       "    </tr>\n",
       "  </tbody>\n",
       "</table>\n",
       "</div>"
      ],
      "text/plain": [
       "   F  T  S   Value\n",
       "0  1  2  1  0.1730\n",
       "1  1  3  1  0.1746\n",
       "2  1  4  1  0.1761\n",
       "3  1  5  1  0.1777\n",
       "4  2  2  1  0.1586"
      ]
     },
     "execution_count": 24,
     "metadata": {},
     "output_type": "execute_result"
    }
   ],
   "source": [
    "fuel_price2_df = pd.read_csv(fuel_price_csv)\n",
    "\n",
    "fuel_price2_df.head()"
   ]
  },
  {
   "cell_type": "markdown",
   "metadata": {},
   "source": [
    "##### Skriver Cost of fuel til excel"
   ]
  },
  {
   "cell_type": "code",
   "execution_count": 25,
   "metadata": {},
   "outputs": [],
   "source": [
    "# Using ExcelWriter to write to the existing Excel file\n",
    "with pd.ExcelWriter(output_excel_path, engine='openpyxl', mode='a', if_sheet_exists='replace') as writer:\n",
    "    fuel_price2_df.to_excel(writer, sheet_name='Cost of fuel 2', index=False)\n",
    "\n",
    "# Using ExcelWriter to write to the existing Excel file\n",
    "with pd.ExcelWriter(output_excel_path, engine='openpyxl', mode='a', if_sheet_exists='replace') as writer:\n",
    "    df_fuelprice.to_excel(writer, sheet_name='Cost of fuel 1', index=False)"
   ]
  },
  {
   "cell_type": "markdown",
   "metadata": {},
   "source": [
    "##### EMISSIONS FOR FUEL TYPE"
   ]
  },
  {
   "cell_type": "markdown",
   "metadata": {},
   "source": [
    "Generere alle kombinasjoner av F og R i kolonnene\n"
   ]
  },
  {
   "cell_type": "code",
   "execution_count": 26,
   "metadata": {},
   "outputs": [
    {
     "name": "stdout",
     "output_type": "stream",
     "text": [
      "   S  R\n",
      "0  1  1\n",
      "1  1  2\n",
      "2  1  3\n",
      "3  1  4\n",
      "4  1  5\n"
     ]
    }
   ],
   "source": [
    "# Create a DataFrame from the combinations\n",
    "df_ems = pd.DataFrame(combinations_ems, columns=['S', 'R'])\n",
    "\n",
    "# Display the first few rows of the DataFrame\n",
    "print(df_ems.head())"
   ]
  },
  {
   "cell_type": "code",
   "execution_count": 27,
   "metadata": {},
   "outputs": [],
   "source": [
    "\n",
    "def calculate_emissions(row):\n",
    "    distance =  distance_dict[row['R']]\n",
    "    return emissions_carbon_tonn_per_MJ[row['S']] * distance\n",
    "\n",
    "\n",
    "\n",
    "# Apply the function to create a new column 'Value'\n",
    "df_ems['Value'] = df_ems.apply(calculate_emissions, axis=1)\n",
    "\n",
    "\n",
    "# Skriver dataframen med emissions til parameter_data excel filen\n",
    "with pd.ExcelWriter(output_excel_path, engine='openpyxl', mode='a', if_sheet_exists='replace') as writer:\n",
    "    df_ems.to_excel(writer, sheet_name='Emissions', index=False)\n"
   ]
  },
  {
   "cell_type": "markdown",
   "metadata": {},
   "source": [
    "##### MAX EMISSIONS PER TIME PERIOD"
   ]
  },
  {
   "cell_type": "markdown",
   "metadata": {},
   "source": [
    "##### TIME USED"
   ]
  },
  {
   "cell_type": "code",
   "execution_count": 28,
   "metadata": {},
   "outputs": [
    {
     "name": "stdout",
     "output_type": "stream",
     "text": [
      "{1: 10.86, 2: 8.58, 3: 16.81, 4: 14.45, 5: 14.62, 6: 16.68, 7: 13.28, 8: 10.36, 9: 13.98, 10: 10.22, 11: 18.34, 12: 16.84, 13: 13.38, 14: 11.78, 15: 14.43, 16: 17.85, 17: 15.64, 18: 17.11, 19: 13.03, 20: 13.89, 21: 18.75, 22: 15.46, 23: 16.98, 24: 18.73, 25: 17.48, 26: 17.69, 27: 12.2, 28: 16.0, 29: 12.19, 30: 18.84, 31: 19.16, 32: 17.68, 33: 15.91, 34: 16.35, 35: 18.4, 36: 14.76, 37: 19.28, 38: 18.5, 39: 13.63}\n",
      "      R  S  Value\n",
      "0     1  1  15.03\n",
      "1     1  2  15.03\n",
      "2     1  3  15.03\n",
      "3     1  4  15.03\n",
      "4     1  5  15.03\n",
      "..   .. ..    ...\n",
      "307  39  4  22.30\n",
      "308  39  5  22.30\n",
      "309  39  6  22.30\n",
      "310  39  7  22.30\n",
      "311  39  8  22.30\n",
      "\n",
      "[312 rows x 3 columns]\n"
     ]
    }
   ],
   "source": [
    "# Create T_rs\n",
    "combinations_r_s = itertools.product(r_values, s_values)\n",
    "df_timeused = pd.DataFrame(combinations_r_s, columns=['R', 'S'])\n",
    "\n",
    "# Lager dictionaries for MJ_route for å senere kunne multiplisere sammen disse verdiene for å få kostnad per rute per fueltype\n",
    "route_dict = hours_route['Hours'].to_dict()\n",
    "sailing_dict = sailing_route['Duration (hours)'].to_dict()\n",
    "lossing_dict = lossing_route['Duration (hours)'].to_dict()\n",
    "hours_route_dict = {key + 1: value for key, value in route_dict.items()}\n",
    "\n",
    "sailing_dict = {key + 1: value for key, value in sailing_dict.items()}\n",
    "lossing_dict = {key + 1: value for key, value in lossing_dict.items()}\n",
    "print(sailing_dict)\n",
    "\n",
    "\n",
    "def calculate_timeused(row):\n",
    "    value =  sailing_dict[row['R']] + lossing_dict[row['R']]\n",
    "    return value\n",
    "\n",
    "df_timeused['Value'] = df_timeused.apply(calculate_timeused, axis=1)\n",
    "\n",
    "print(df_timeused)\n",
    "# Skriver dataframe med emissions til parameter_data excel filen\n",
    "with pd.ExcelWriter(output_excel_path, engine='openpyxl', mode='a', if_sheet_exists='replace') as writer:\n",
    "    df_timeused.to_excel(writer, sheet_name='Time used', index=False)\n",
    "\n",
    "\n",
    "\n",
    "# VANLIG TIME USED\n",
    "\n",
    "# def calculate_timeused(row):\n",
    "#     value =  hours_route_dict[row['R']]\n",
    "#     return value\n",
    "\n",
    "\n",
    "# df_timeused['Value'] = df_timeused.apply(calculate_timeused, axis=1)\n",
    "\n",
    "# print(df_timeused.head())\n",
    "# # Skriver dataframe med emissions til parameter_data excel filen\n",
    "# with pd.ExcelWriter(output_excel_path, engine='openpyxl', mode='a', if_sheet_exists='replace') as writer:\n",
    "#     df_timeused.to_excel(writer, sheet_name='Time used', index=False)\n"
   ]
  },
  {
   "cell_type": "markdown",
   "metadata": {},
   "source": [
    "#### Installations in route"
   ]
  },
  {
   "cell_type": "code",
   "execution_count": 29,
   "metadata": {},
   "outputs": [
    {
     "name": "stdout",
     "output_type": "stream",
     "text": [
      "{'APTOSS': 1, 'ASL': 2, 'DAB': 3, 'DSASTASTBSTC': 4, 'DSS': 5, 'GFAGFBGFC': 6, 'KVBNLNVAL': 7, 'MID': 8, 'OSCOSE': 9, 'OSOVFB': 10, 'TENTEQTRBTRCTRO': 11}\n"
     ]
    }
   ],
   "source": [
    "import csv\n",
    "\n",
    "\n",
    "# Open the existing Excel workbook\n",
    "workbook = openpyxl.load_workbook(output_excel_path)\n",
    "sheet = workbook[\"Installations in route\"]\n",
    "\n",
    "# Open the CSV file in text mode and read all lines\n",
    "with open(routes_file, 'r') as file:\n",
    "    lines = file.readlines()\n",
    "\n",
    "# Clear existing data in the sheet except for the header row\n",
    "for row in sheet.iter_rows(min_row=2, max_row=sheet.max_row, min_col=1, max_col=3):\n",
    "    for cell in row:\n",
    "        cell.value = None\n",
    "\n",
    "# Add column headers if necessary\n",
    "if not sheet['A1'].value:\n",
    "    sheet['A1'] = \"i\"\n",
    "    sheet['B1'] = \"r\"\n",
    "    sheet['C1'] = \"Value\"\n",
    "\n",
    "# Initialize the row index for Excel\n",
    "row_index = 2\n",
    "\n",
    "# Initialize an empty dictionary to store the platform mapping\n",
    "platform_mapping = {}\n",
    "\n",
    "# Open the CSV file and read the contents\n",
    "with open(platform_demand, newline='') as file:\n",
    "    reader = csv.reader(file, delimiter=';')\n",
    "    next(reader)  # Skip the header row\n",
    "    for row in reader:\n",
    "        platform = row[0]  # Platform name is in the first column\n",
    "        # Assign a number to each platform\n",
    "        platform_mapping[platform] = len(platform_mapping) + 1\n",
    "\n",
    "print(platform_mapping)\n"
   ]
  },
  {
   "cell_type": "code",
   "execution_count": 30,
   "metadata": {},
   "outputs": [
    {
     "name": "stdout",
     "output_type": "stream",
     "text": [
      "Data has been successfully written.\n"
     ]
    }
   ],
   "source": [
    "\n",
    "platform_mapping_reverse = {v: k for k, v in platform_mapping.items()}\n",
    "\n",
    "length = len(platform_mapping) +1\n",
    "\n",
    "# Process each line in the CSV file\n",
    "for idx, line in enumerate(lines, start=1):\n",
    "    for i in range(1, length):\n",
    "        sheet.cell(row=row_index, column=2, value=idx)\n",
    "        sheet.cell(row=row_index, column=1, value=i)\n",
    "        platform_name = platform_mapping_reverse.get(i, \"\")  # Get the platform name\n",
    "        if platform_name in line:\n",
    "            sheet.cell(row=row_index, column=3, value=1)\n",
    "        else:\n",
    "            sheet.cell(row=row_index, column=3, value=0)\n",
    "        row_index += 1\n",
    "\n",
    "workbook.save(excel_file)\n",
    "print(\"Data has been successfully written.\")"
   ]
  },
  {
   "cell_type": "code",
   "execution_count": 31,
   "metadata": {},
   "outputs": [
    {
     "name": "stdout",
     "output_type": "stream",
     "text": [
      "{1: '3', 2: '3', 3: '4', 4: '4', 5: '3', 6: '4', 7: '3', 8: '2', 9: '5', 10: '4', 11: '4'}\n"
     ]
    },
    {
     "data": {
      "text/html": [
       "<div>\n",
       "<style scoped>\n",
       "    .dataframe tbody tr th:only-of-type {\n",
       "        vertical-align: middle;\n",
       "    }\n",
       "\n",
       "    .dataframe tbody tr th {\n",
       "        vertical-align: top;\n",
       "    }\n",
       "\n",
       "    .dataframe thead th {\n",
       "        text-align: right;\n",
       "    }\n",
       "</style>\n",
       "<table border=\"1\" class=\"dataframe\">\n",
       "  <thead>\n",
       "    <tr style=\"text-align: right;\">\n",
       "      <th></th>\n",
       "      <th>I</th>\n",
       "      <th>T</th>\n",
       "      <th>Value</th>\n",
       "    </tr>\n",
       "  </thead>\n",
       "  <tbody>\n",
       "    <tr>\n",
       "      <th>0</th>\n",
       "      <td>1</td>\n",
       "      <td>0</td>\n",
       "      <td>3</td>\n",
       "    </tr>\n",
       "    <tr>\n",
       "      <th>1</th>\n",
       "      <td>1</td>\n",
       "      <td>1</td>\n",
       "      <td>3</td>\n",
       "    </tr>\n",
       "    <tr>\n",
       "      <th>2</th>\n",
       "      <td>1</td>\n",
       "      <td>2</td>\n",
       "      <td>3</td>\n",
       "    </tr>\n",
       "    <tr>\n",
       "      <th>3</th>\n",
       "      <td>1</td>\n",
       "      <td>3</td>\n",
       "      <td>3</td>\n",
       "    </tr>\n",
       "    <tr>\n",
       "      <th>4</th>\n",
       "      <td>1</td>\n",
       "      <td>4</td>\n",
       "      <td>3</td>\n",
       "    </tr>\n",
       "    <tr>\n",
       "      <th>...</th>\n",
       "      <td>...</td>\n",
       "      <td>...</td>\n",
       "      <td>...</td>\n",
       "    </tr>\n",
       "    <tr>\n",
       "      <th>61</th>\n",
       "      <td>11</td>\n",
       "      <td>1</td>\n",
       "      <td>4</td>\n",
       "    </tr>\n",
       "    <tr>\n",
       "      <th>62</th>\n",
       "      <td>11</td>\n",
       "      <td>2</td>\n",
       "      <td>4</td>\n",
       "    </tr>\n",
       "    <tr>\n",
       "      <th>63</th>\n",
       "      <td>11</td>\n",
       "      <td>3</td>\n",
       "      <td>4</td>\n",
       "    </tr>\n",
       "    <tr>\n",
       "      <th>64</th>\n",
       "      <td>11</td>\n",
       "      <td>4</td>\n",
       "      <td>4</td>\n",
       "    </tr>\n",
       "    <tr>\n",
       "      <th>65</th>\n",
       "      <td>11</td>\n",
       "      <td>5</td>\n",
       "      <td>4</td>\n",
       "    </tr>\n",
       "  </tbody>\n",
       "</table>\n",
       "<p>66 rows × 3 columns</p>\n",
       "</div>"
      ],
      "text/plain": [
       "     I  T Value\n",
       "0    1  0     3\n",
       "1    1  1     3\n",
       "2    1  2     3\n",
       "3    1  3     3\n",
       "4    1  4     3\n",
       "..  .. ..   ...\n",
       "61  11  1     4\n",
       "62  11  2     4\n",
       "63  11  3     4\n",
       "64  11  4     4\n",
       "65  11  5     4\n",
       "\n",
       "[66 rows x 3 columns]"
      ]
     },
     "execution_count": 31,
     "metadata": {},
     "output_type": "execute_result"
    }
   ],
   "source": [
    "\n",
    "visits_per_week = {}\n",
    "with open(csv_platform_visits, newline='') as file:\n",
    "    reader = csv.reader(file, delimiter=';')\n",
    "    next(reader)  # Skip the header row\n",
    "    i = 1\n",
    "    for row in reader:\n",
    "        platform = row[0]  # Platform name is in the first column\n",
    "        # Assign a number to each platform\n",
    "        # Assign a number to each platform\n",
    "        visits_per_week[i] = row[1]\n",
    "        i += 1\n",
    "\n",
    "i_values = range(1, len(platform_mapping)+1)\n",
    "print(visits_per_week)\n",
    "\n",
    "combinations_i_t = itertools.product(i_values, t_values)\n",
    "df_demand = pd.DataFrame(combinations_i_t, columns=['I', 'T'])\n",
    "# Iterate over rows in the DataFrame\n",
    "df_demand['Value'] = df_demand['I'].map(lambda x: visits_per_week[x])\n",
    "\n",
    "\n",
    "\n",
    "df_demand"
   ]
  },
  {
   "cell_type": "code",
   "execution_count": 32,
   "metadata": {},
   "outputs": [],
   "source": [
    "with pd.ExcelWriter(output_excel_path, engine='openpyxl', mode='a', if_sheet_exists='replace') as writer:\n",
    "    df_demand.to_excel(writer, sheet_name='Demand', index=False)"
   ]
  }
 ],
 "metadata": {
  "kernelspec": {
   "display_name": "prosjektoppgave",
   "language": "python",
   "name": "python3"
  },
  "language_info": {
   "codemirror_mode": {
    "name": "ipython",
    "version": 3
   },
   "file_extension": ".py",
   "mimetype": "text/x-python",
   "name": "python",
   "nbconvert_exporter": "python",
   "pygments_lexer": "ipython3",
   "version": "3.11.5"
  }
 },
 "nbformat": 4,
 "nbformat_minor": 2
}
