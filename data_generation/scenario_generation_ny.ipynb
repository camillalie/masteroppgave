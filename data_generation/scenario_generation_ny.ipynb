{
 "cells": [
  {
   "cell_type": "code",
   "execution_count": 52,
   "metadata": {},
   "outputs": [],
   "source": [
    "import pandas as pd\n",
    "import itertools\n",
    "import numpy as np\n",
    "import openpyxl"
   ]
  },
  {
   "cell_type": "code",
   "execution_count": 53,
   "metadata": {},
   "outputs": [],
   "source": [
    "fuel_dict = {\n",
    "    1: (0.178, 0.094, 'fossil'),      # MGO\n",
    "    2: (0.146, 0.073, 'fossil'),      # LNG\n",
    "    3: (0.491, 0.261, 'green_fuels'), # GREEN METHANOL\n",
    "    4: (0.324, 0.178, 'green_fuels'), # GREEN NH3\n",
    "    5: (0.278, 0.147, 'bio'),         # B30\n",
    "    6: (0.245, 0.130, 'bio'),         # B20\n",
    "    7: (0.228, 0.121, 'bio'),         # B15\n",
    "    8: (0.201, 0.106, 'bio'),         # B7\n",
    "    9: (0.227, 0.108, 'green_fuels')  # EL40\n",
    "}\n",
    "\n",
    "t2_values = range(2,6)\n",
    "w_values = range(1,2)\n",
    "scenario_range = [1]\n",
    "period_range = [2, 3, 4, 5]\n",
    "# r_values = range(1,1819)\n",
    "\n",
    "fuel_price_csv = 'fuel_price2_1s.csv'\n",
    "\n"
   ]
  },
  {
   "cell_type": "code",
   "execution_count": 54,
   "metadata": {},
   "outputs": [],
   "source": [
    "scenario_developments = [\n",
    "    {'fossil': [-0.026, -0.026, -0.026, -0.026], 'bio': [0.12, 0.12, 0.12,0.12], 'green_fuels': [-0.031, -0.031, -0.031, -0.031]} # high, high, high \n",
    "    #{'fossil': [-0.113, -0.113, -0.113, -0.113], 'bio': [0.12, 0.12, 0.12, 0.12], 'green_fuels': [-0.031, -0.031, -0.031, -0.031]}, #LHH\n",
    "    #{'fossil': [-0.113, -0.113, -0.113, -0.113], 'bio': [-0.051, -0.051, -0.051, -0.051], 'green_fuels': [-0.073, -0.073, -0.073, -0.073]} \n",
    "    #{'fossil': [-0.113, -0.113, -0.113, -0.113], 'bio': [0.038, 0.038, 0.038, 0.038], 'green_fuels': [-0.031, -0.031, -0.031, -0.031]}\n",
    "    #{'fossil': [-0.113, -0.113, -0.113, -0.113], 'bio': [-0.051, -0.051, -0.051, -0.051], 'green_fuels': [-0.031, -0.031, -0.031, -0.031]}\n",
    "    # {'fossil': [-0.069, -0.069, -0.069, -0.069], 'bio': [0.038, 0.038, 0.038, 0.038], 'green_fuels': [-0.073, -0.073, -0.073, -0.073]}\n",
    "]\n"
   ]
  },
  {
   "cell_type": "code",
   "execution_count": 55,
   "metadata": {},
   "outputs": [],
   "source": [
    "def generate_fuel_prices(scenario_range, period_range, fuel_dict, scenario_developments):\n",
    "    num_scenarios = len(scenario_range)\n",
    "    num_periods = len(period_range)\n",
    "    num_fuels = len(fuel_dict)\n",
    "    \n",
    "    fuel_prices = np.zeros((num_fuels, num_periods, num_scenarios))\n",
    "    \n",
    "    group_scaling_factors = {}\n",
    "    \n",
    "    for _, (upper_bound, lower_bound, group) in fuel_dict.items():\n",
    "        group_scaling_factors[group] = np.ones((num_scenarios, num_periods))  # Initialize scaling factors to ones\n",
    "    \n",
    "    # Apply scenario developments\n",
    "    for s_idx, scenario_dev in enumerate(scenario_developments):\n",
    "        print('s_idx ', s_idx, 'scenario_dev', scenario_dev)\n",
    "        for group, developments in scenario_dev.items():\n",
    "            if group in group_scaling_factors:\n",
    "                for p_idx, period_dev in enumerate(developments):\n",
    "                    #print('p_idx: ', p_idx, 'period_dev ', period_dev)\n",
    "                    if p_idx >= 1:  # Start applying incremental developments from the third period onwards\n",
    "                        group_scaling_factors[group][s_idx, p_idx:] += period_dev\n",
    "    \n",
    "    for i, (fuel_key, (upper_bound, lower_bound, group)) in enumerate(fuel_dict.items()):\n",
    "        base_price = lower_bound + (upper_bound - lower_bound)\n",
    "        for s_idx, scenario in enumerate(scenario_range):\n",
    "            for p_idx, period in enumerate(period_range):\n",
    "                #print(group_scaling_factors[group][s_idx, p_idx])\n",
    "                fuel_price = base_price * group_scaling_factors[group][s_idx, p_idx]\n",
    "                fuel_prices[fuel_key - 1, p_idx, s_idx] = fuel_price  # Adjusted for zero-based indexing\n",
    "    \n",
    "    return fuel_prices\n"
   ]
  },
  {
   "cell_type": "code",
   "execution_count": 56,
   "metadata": {},
   "outputs": [
    {
     "name": "stdout",
     "output_type": "stream",
     "text": [
      "s_idx  0 scenario_dev {'fossil': [-0.026, -0.026, -0.026, -0.026], 'bio': [0.12, 0.12, 0.12, 0.12], 'green_fuels': [-0.031, -0.031, -0.031, -0.031]}\n",
      "s_idx  1 scenario_dev {'fossil': [-0.113, -0.113, -0.113, -0.113], 'bio': [0.12, 0.12, 0.12, 0.12], 'green_fuels': [-0.031, -0.031, -0.031, -0.031]}\n",
      "s_idx  2 scenario_dev {'fossil': [-0.113, -0.113, -0.113, -0.113], 'bio': [-0.051, -0.051, -0.051, -0.051], 'green_fuels': [-0.073, -0.073, -0.073, -0.073]}\n",
      "[[[0.178    0.178    0.178   ]\n",
      "  [0.173372 0.157886 0.157886]\n",
      "  [0.168744 0.137772 0.137772]\n",
      "  [0.164116 0.117658 0.117658]]\n",
      "\n",
      " [[0.146    0.146    0.146   ]\n",
      "  [0.142204 0.129502 0.129502]\n",
      "  [0.138408 0.113004 0.113004]\n",
      "  [0.134612 0.096506 0.096506]]\n",
      "\n",
      " [[0.491    0.491    0.491   ]\n",
      "  [0.475779 0.475779 0.455157]\n",
      "  [0.460558 0.460558 0.419314]\n",
      "  [0.445337 0.445337 0.383471]]\n",
      "\n",
      " [[0.324    0.324    0.324   ]\n",
      "  [0.313956 0.313956 0.300348]\n",
      "  [0.303912 0.303912 0.276696]\n",
      "  [0.293868 0.293868 0.253044]]\n",
      "\n",
      " [[0.278    0.278    0.278   ]\n",
      "  [0.31136  0.31136  0.263822]\n",
      "  [0.34472  0.34472  0.249644]\n",
      "  [0.37808  0.37808  0.235466]]\n",
      "\n",
      " [[0.245    0.245    0.245   ]\n",
      "  [0.2744   0.2744   0.232505]\n",
      "  [0.3038   0.3038   0.22001 ]\n",
      "  [0.3332   0.3332   0.207515]]\n",
      "\n",
      " [[0.228    0.228    0.228   ]\n",
      "  [0.25536  0.25536  0.216372]\n",
      "  [0.28272  0.28272  0.204744]\n",
      "  [0.31008  0.31008  0.193116]]\n",
      "\n",
      " [[0.201    0.201    0.201   ]\n",
      "  [0.22512  0.22512  0.190749]\n",
      "  [0.24924  0.24924  0.180498]\n",
      "  [0.27336  0.27336  0.170247]]\n",
      "\n",
      " [[0.227    0.227    0.227   ]\n",
      "  [0.219963 0.219963 0.210429]\n",
      "  [0.212926 0.212926 0.193858]\n",
      "  [0.205889 0.205889 0.177287]]]\n"
     ]
    }
   ],
   "source": [
    "fuel_prices = generate_fuel_prices(w_values, t2_values, fuel_dict, scenario_developments)\n",
    "print(fuel_prices)"
   ]
  },
  {
   "cell_type": "code",
   "execution_count": 57,
   "metadata": {},
   "outputs": [
    {
     "name": "stdout",
     "output_type": "stream",
     "text": [
      "     F  T  S     Value\n",
      "0    1  2  1  0.178000\n",
      "1    1  3  1  0.173372\n",
      "2    1  4  1  0.168744\n",
      "3    1  5  1  0.164116\n",
      "4    1  2  2  0.178000\n",
      "..  .. .. ..       ...\n",
      "103  9  5  2  0.205889\n",
      "104  9  2  3  0.227000\n",
      "105  9  3  3  0.210429\n",
      "106  9  4  3  0.193858\n",
      "107  9  5  3  0.177287\n",
      "\n",
      "[108 rows x 4 columns]\n"
     ]
    }
   ],
   "source": [
    "fuel_prices_data = []\n",
    "\n",
    "for fuel_key, (upper_bound, lower_bound, _) in fuel_dict.items():\n",
    "    fuel_idx = list(fuel_dict.keys()).index(fuel_key)\n",
    "    for s_idx, scenario in enumerate(w_values):\n",
    "        for p_idx, period in enumerate(t2_values):\n",
    "            \n",
    "                fuel_prices_data.append({\n",
    "                    'F': fuel_key,\n",
    "                    #'R': route,\n",
    "                    'T': period,\n",
    "                    'S': scenario,\n",
    "                    'Value': fuel_prices[fuel_idx, p_idx, s_idx]\n",
    "                })\n",
    "\n",
    "# Create DataFrame from the list of dictionaries\n",
    "fuel_prices_df = pd.DataFrame(fuel_prices_data)\n",
    "\n",
    "# for route in r_values:\n",
    "#                 \n",
    "fuel_prices_df.to_csv(fuel_price_csv, index=False)\n",
    "\n",
    "print(fuel_prices_df)"
   ]
  }
 ],
 "metadata": {
  "kernelspec": {
   "display_name": "prosjektoppgave",
   "language": "python",
   "name": "python3"
  },
  "language_info": {
   "codemirror_mode": {
    "name": "ipython",
    "version": 3
   },
   "file_extension": ".py",
   "mimetype": "text/x-python",
   "name": "python",
   "nbconvert_exporter": "python",
   "pygments_lexer": "ipython3",
   "version": "3.11.5"
  }
 },
 "nbformat": 4,
 "nbformat_minor": 2
}
