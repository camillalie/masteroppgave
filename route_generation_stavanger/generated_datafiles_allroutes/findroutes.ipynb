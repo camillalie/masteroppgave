{
 "cells": [
  {
   "cell_type": "code",
   "execution_count": 26,
   "metadata": {},
   "outputs": [
    {
     "name": "stdout",
     "output_type": "stream",
     "text": [
      "Row number: 193\n",
      "Row: ['DUS', 'GKR', 'SLB', 'SLA', 'DUS']\n",
      "Distance Row: ['247.51999999999998']\n"
     ]
    }
   ],
   "source": [
    "import csv\n",
    "\n",
    "def find_matching_row(csv_file, names):\n",
    "    with open(csv_file, 'r', newline='') as file:\n",
    "        reader = csv.reader(file)\n",
    "        for row_number, row in enumerate(reader, start=1):\n",
    "            if set(names).issubset(row):\n",
    "                return row_number, row\n",
    "    return None, None\n",
    "\n",
    "def print_row_and_distance(csv_file, row_number):\n",
    "    if row_number:\n",
    "        with open(csv_file, 'r', newline='') as file:\n",
    "            reader = csv.reader(file)\n",
    "            for i, row in enumerate(reader, start=1):\n",
    "                if i == row_number:\n",
    "                    print(f\"Row number: {row_number}\")\n",
    "                    print(\"Row:\", row)\n",
    "                    break\n",
    "        with open(\"distances.csv\", 'r', newline='') as distance_file:\n",
    "            reader = csv.reader(distance_file)\n",
    "            for i, row in enumerate(reader, start=1):\n",
    "                if i == row_number + 1:  # Adding 1 because row_number starts from 1 but CSV index starts from 0\n",
    "                    print(\"Distance Row:\", row)\n",
    "                    break\n",
    "    else:\n",
    "        print(\"The names were not found in any row.\")\n",
    "\n",
    "# Example usage\n",
    "csv_file = 'routes.csv'\n",
    "names_to_find = ['DUS', 'GKR', 'SLA', 'SLB', 'DUS']  # Modify this list with the names you want to find\n",
    "row_number, row = find_matching_row(csv_file, names_to_find)\n",
    "print_row_and_distance(csv_file, row_number)"
   ]
  }
 ],
 "metadata": {
  "kernelspec": {
   "display_name": "masteroppgave",
   "language": "python",
   "name": "python3"
  },
  "language_info": {
   "codemirror_mode": {
    "name": "ipython",
    "version": 3
   },
   "file_extension": ".py",
   "mimetype": "text/x-python",
   "name": "python",
   "nbconvert_exporter": "python",
   "pygments_lexer": "ipython3",
   "version": "3.11.4"
  }
 },
 "nbformat": 4,
 "nbformat_minor": 2
}
