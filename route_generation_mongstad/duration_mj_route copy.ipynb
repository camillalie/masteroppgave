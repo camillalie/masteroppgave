{
 "cells": [
  {
   "cell_type": "markdown",
   "metadata": {},
   "source": [
    "#### Regner ut idle time for fuel 1-5 (ikke strøm)"
   ]
  },
  {
   "cell_type": "code",
   "execution_count": 4,
   "metadata": {},
   "outputs": [],
   "source": [
    "import csv\n",
    "\n",
    "folder = 'cluster11_new/'\n",
    "sluttfilnavn = ''"
   ]
  },
  {
   "cell_type": "markdown",
   "metadata": {},
   "source": [
    "#### Regner ut antall megajoules per rute for fuel 1-5 (ikke strøm)"
   ]
  },
  {
   "cell_type": "code",
   "execution_count": 5,
   "metadata": {},
   "outputs": [],
   "source": [
    "import csv\n",
    "\n",
    "def calculate_mj_route(sailing, lossing):\n",
    "    result = []\n",
    "    for sail, loss in zip(sailing, lossing):\n",
    "        sail = float(sail[0])  \n",
    "        loss = float(loss[0])  \n",
    "        mj_value = sail * 9000 + loss * 2160 + 10 * 1000\n",
    "        result.append(round(mj_value, 2)) \n",
    "    return result\n",
    "\n",
    "# Read duration_sailing.csv\n",
    "with open(f'{folder}duration_sailing{sluttfilnavn}.csv', 'r') as sailing_file:\n",
    "    sailing_reader = csv.reader(sailing_file)\n",
    "    sailing_data = list(sailing_reader)[1:] \n",
    "\n",
    "# Read duration_lossing.csv\n",
    "with open(f'{folder}duration_lossing{sluttfilnavn}.csv', 'r') as lossing_file:\n",
    "    lossing_reader = csv.reader(lossing_file)\n",
    "    lossing_data = list(lossing_reader)[1:]\n",
    "\n",
    "# Calculate mj_route\n",
    "mj_route = calculate_mj_route(sailing_data, lossing_data)\n",
    "\n",
    "# Write mj_route to a new CSV file\n",
    "with open(f'{folder}mj_route{sluttfilnavn}.csv', 'w', newline='') as mj_route_file:\n",
    "    writer = csv.writer(mj_route_file)\n",
    "    writer.writerow(['mj_route'])\n",
    "    writer.writerows(map(lambda x: [x], mj_route))\n"
   ]
  },
  {
   "cell_type": "code",
   "execution_count": 6,
   "metadata": {},
   "outputs": [],
   "source": [
    "def calculate_mj_route(sailing, lossing):\n",
    "    result = []\n",
    "    for sail, loss in zip(sailing, lossing):\n",
    "        sail = float(sail[0])  \n",
    "        loss = float(loss[0])  \n",
    "\n",
    "        mj_value = sail + loss + 10 \n",
    "        result.append(round(mj_value, 2)) \n",
    "    return result\n",
    "\n",
    "# Read duration_sailing.csv\n",
    "with open(f'{folder}duration_sailing{sluttfilnavn}.csv', 'r') as sailing_file:\n",
    "    sailing_reader = csv.reader(sailing_file)\n",
    "    sailing_data = list(sailing_reader)[1:]  \n",
    "\n",
    "# Read duration_lossing.csv\n",
    "with open(f'{folder}duration_lossing{sluttfilnavn}.csv', 'r') as lossing_file:\n",
    "    lossing_reader = csv.reader(lossing_file)\n",
    "    lossing_data = list(lossing_reader)[1:] \n",
    "\n",
    "# Calculate mj_route\n",
    "mj_route = calculate_mj_route(sailing_data, lossing_data)\n",
    "\n",
    "# Write mj_route to a new CSV file\n",
    "with open(f'{folder}hours_route{sluttfilnavn}.csv', 'w', newline='') as mj_route_file:\n",
    "    writer = csv.writer(mj_route_file)\n",
    "    writer.writerow(['Hours'])\n",
    "    writer.writerows(map(lambda x: [x], mj_route))"
   ]
  }
 ],
 "metadata": {
  "kernelspec": {
   "display_name": "base",
   "language": "python",
   "name": "python3"
  },
  "language_info": {
   "codemirror_mode": {
    "name": "ipython",
    "version": 3
   },
   "file_extension": ".py",
   "mimetype": "text/x-python",
   "name": "python",
   "nbconvert_exporter": "python",
   "pygments_lexer": "ipython3",
   "version": "3.11.4"
  }
 },
 "nbformat": 4,
 "nbformat_minor": 2
}
