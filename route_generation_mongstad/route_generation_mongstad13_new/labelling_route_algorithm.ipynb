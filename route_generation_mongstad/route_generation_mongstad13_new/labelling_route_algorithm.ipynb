{
 "cells": [
  {
   "cell_type": "code",
   "execution_count": 1,
   "metadata": {},
   "outputs": [],
   "source": [
    "import pandas as pd\n",
    "from itertools import combinations\n",
    "import math\n",
    "import os\n",
    "import csv\n",
    "import time"
   ]
  },
  {
   "cell_type": "code",
   "execution_count": 2,
   "metadata": {},
   "outputs": [],
   "source": [
    "cargo_capacity_psv = 100\n",
    "psv_speed = 10 #7 for strøm, 10 på resten\n",
    "max_platforms_in_one_voyage = 6\n",
    "\n",
    "mappenavn = '10'\n",
    "confignr = 3\n",
    "capacity = 70\n",
    "idle_restriction = True\n",
    "\n",
    "if capacity == 70: \n",
    "    capacity_fil = '70' # 70, 90 eller ''\n",
    "    maxcap = 71\n",
    "    mincap = 42\n",
    "elif capacity == 90:\n",
    "    capacity_fil = '90'\n",
    "    maxcap = 91\n",
    "    mincap = 54\n",
    "elif capacity == 100: \n",
    "    capacity_fil = ''\n",
    "    maxcap = 101\n",
    "    mincap = 60"
   ]
  },
  {
   "cell_type": "markdown",
   "metadata": {},
   "source": [
    "## Reads input data"
   ]
  },
  {
   "cell_type": "code",
   "execution_count": 3,
   "metadata": {},
   "outputs": [],
   "source": [
    "demand = pd.read_csv(f'config{confignr}/{mappenavn}/output_platforms_demand.csv', header=0, delimiter=';')\n",
    "distances = pd.read_csv(f'config{confignr}/{mappenavn}/output_distance_matrix_kmeans.csv', header=0, delimiter=';', index_col='from/to')\n",
    "\n",
    "platforms_demand = dict(zip(demand['platform'], demand['avg_q'].replace(',', '.').astype(float)))\n",
    "platforms_d = ['MON'] + demand['platform'].tolist() + ['MON']  # Add 'Mon' as start and end platforms"
   ]
  },
  {
   "cell_type": "markdown",
   "metadata": {},
   "source": [
    "## Algorithm for generating the shortest routes"
   ]
  },
  {
   "cell_type": "code",
   "execution_count": 4,
   "metadata": {},
   "outputs": [
    {
     "name": "stdout",
     "output_type": "stream",
     "text": [
      "Shortest Route: ['MON', 'APTOSS', 'MON'], Total Distance: 134.82, Total Demand: 30.0, Duration sailing: 13.48, Duration lossing: 4.17\n",
      "Shortest Route: ['MON', 'ASLGFAGFBGFC', 'MON'], Total Distance: 156.56, Total Demand: 86.0, Duration sailing: 15.66, Duration lossing: 11.95\n",
      "Shortest Route: ['MON', 'DAB', 'MON'], Total Distance: 85.82, Total Demand: 40.0, Duration sailing: 8.58, Duration lossing: 5.56\n",
      "Shortest Route: ['MON', 'DSASTASTBSTC', 'MON'], Total Distance: 183.48, Total Demand: 90.25, Duration sailing: 18.35, Duration lossing: 12.54\n",
      "Shortest Route: ['MON', 'DSS', 'MON'], Total Distance: 164.34, Total Demand: 29.0, Duration sailing: 16.43, Duration lossing: 4.03\n",
      "Shortest Route: ['MON', 'KVBNLNVAL', 'MON'], Total Distance: 138.2, Total Demand: 38.0, Duration sailing: 13.82, Duration lossing: 5.28\n",
      "Shortest Route: ['MON', 'MID', 'MON'], Total Distance: 156.6, Total Demand: 14.0, Duration sailing: 15.66, Duration lossing: 1.94\n",
      "Shortest Route: ['MON', 'OSCOSE', 'MON'], Total Distance: 121.04, Total Demand: 43.2, Duration sailing: 12.1, Duration lossing: 6.0\n",
      "Shortest Route: ['MON', 'OSOVFB', 'MON'], Total Distance: 107.14, Total Demand: 28.5, Duration sailing: 10.71, Duration lossing: 3.96\n",
      "Shortest Route: ['MON', 'TENTEQTRBTRCTRO', 'MON'], Total Distance: 85.62, Total Demand: 56.0, Duration sailing: 8.56, Duration lossing: 7.78\n",
      "Shortest Route: ['MON', 'APTOSS', 'DAB', 'MON'], Total Distance: 175.1, Total Demand: 70.0, Duration sailing: 17.51, Duration lossing: 9.72\n",
      "Shortest Route: ['MON', 'APTOSS', 'DSS', 'MON'], Total Distance: 232.1, Total Demand: 59.0, Duration sailing: 23.21, Duration lossing: 8.2\n",
      "Shortest Route: ['MON', 'APTOSS', 'KVBNLNVAL', 'MON'], Total Distance: 191.61, Total Demand: 68.0, Duration sailing: 19.16, Duration lossing: 9.45\n",
      "Shortest Route: ['MON', 'APTOSS', 'MID', 'MON'], Total Distance: 176.21, Total Demand: 44.0, Duration sailing: 17.62, Duration lossing: 6.11\n",
      "Shortest Route: ['MON', 'APTOSS', 'OSCOSE', 'MON'], Total Distance: 152.11, Total Demand: 73.2, Duration sailing: 15.21, Duration lossing: 10.17\n",
      "Shortest Route: ['MON', 'APTOSS', 'OSOVFB', 'MON'], Total Distance: 155.97, Total Demand: 58.5, Duration sailing: 15.6, Duration lossing: 8.13\n",
      "Shortest Route: ['MON', 'APTOSS', 'TENTEQTRBTRCTRO', 'MON'], Total Distance: 164.57, Total Demand: 86.0, Duration sailing: 16.46, Duration lossing: 11.95\n",
      "Shortest Route: ['MON', 'ASLGFAGFBGFC', 'MID', 'MON'], Total Distance: 202.1, Total Demand: 100.0, Duration sailing: 20.21, Duration lossing: 13.89\n",
      "Shortest Route: ['MON', 'DAB', 'DSS', 'MON'], Total Distance: 164.48, Total Demand: 69.0, Duration sailing: 16.45, Duration lossing: 9.58\n",
      "Shortest Route: ['MON', 'DAB', 'KVBNLNVAL', 'MON'], Total Distance: 147.61, Total Demand: 78.0, Duration sailing: 14.76, Duration lossing: 10.83\n",
      "Shortest Route: ['MON', 'DAB', 'MID', 'MON'], Total Distance: 181.98, Total Demand: 54.0, Duration sailing: 18.2, Duration lossing: 7.5\n",
      "Shortest Route: ['MON', 'DAB', 'OSCOSE', 'MON'], Total Distance: 154.85, Total Demand: 83.2, Duration sailing: 15.48, Duration lossing: 11.56\n",
      "Shortest Route: ['MON', 'DAB', 'OSOVFB', 'MON'], Total Distance: 135.22, Total Demand: 68.5, Duration sailing: 13.52, Duration lossing: 9.51\n",
      "Shortest Route: ['MON', 'DAB', 'TENTEQTRBTRCTRO', 'MON'], Total Distance: 129.04, Total Demand: 96.0, Duration sailing: 12.9, Duration lossing: 13.33\n",
      "Shortest Route: ['MON', 'DSS', 'KVBNLNVAL', 'MON'], Total Distance: 187.97, Total Demand: 67.0, Duration sailing: 18.8, Duration lossing: 9.31\n",
      "Shortest Route: ['MON', 'DSS', 'MID', 'MON'], Total Distance: 224.82, Total Demand: 43.0, Duration sailing: 22.48, Duration lossing: 5.97\n",
      "Shortest Route: ['MON', 'DSS', 'OSCOSE', 'MON'], Total Distance: 211.97, Total Demand: 72.2, Duration sailing: 21.2, Duration lossing: 10.03\n",
      "Shortest Route: ['MON', 'DSS', 'OSOVFB', 'MON'], Total Distance: 194.55, Total Demand: 57.5, Duration sailing: 19.46, Duration lossing: 7.99\n",
      "Shortest Route: ['MON', 'DSS', 'TENTEQTRBTRCTRO', 'MON'], Total Distance: 201.13, Total Demand: 85.0, Duration sailing: 20.11, Duration lossing: 11.81\n",
      "Shortest Route: ['MON', 'KVBNLNVAL', 'MID', 'MON'], Total Distance: 186.92, Total Demand: 52.0, Duration sailing: 18.69, Duration lossing: 7.22\n",
      "Shortest Route: ['MON', 'KVBNLNVAL', 'OSCOSE', 'MON'], Total Distance: 171.65, Total Demand: 81.2, Duration sailing: 17.16, Duration lossing: 11.28\n",
      "Shortest Route: ['MON', 'KVBNLNVAL', 'OSOVFB', 'MON'], Total Distance: 155.45, Total Demand: 66.5, Duration sailing: 15.54, Duration lossing: 9.24\n",
      "Shortest Route: ['MON', 'KVBNLNVAL', 'TENTEQTRBTRCTRO', 'MON'], Total Distance: 167.63, Total Demand: 94.0, Duration sailing: 16.76, Duration lossing: 13.06\n",
      "Shortest Route: ['MON', 'MID', 'OSCOSE', 'MON'], Total Distance: 167.35, Total Demand: 57.2, Duration sailing: 16.74, Duration lossing: 7.95\n",
      "Shortest Route: ['MON', 'MID', 'OSOVFB', 'MON'], Total Distance: 166.18, Total Demand: 42.5, Duration sailing: 16.62, Duration lossing: 5.9\n",
      "Shortest Route: ['MON', 'MID', 'TENTEQTRBTRCTRO', 'MON'], Total Distance: 182.93, Total Demand: 70.0, Duration sailing: 18.29, Duration lossing: 9.72\n",
      "Shortest Route: ['MON', 'OSCOSE', 'OSOVFB', 'MON'], Total Distance: 135.37, Total Demand: 71.7, Duration sailing: 13.54, Duration lossing: 9.96\n",
      "Shortest Route: ['MON', 'OSCOSE', 'TENTEQTRBTRCTRO', 'MON'], Total Distance: 148.01, Total Demand: 99.2, Duration sailing: 14.8, Duration lossing: 13.78\n",
      "Shortest Route: ['MON', 'OSOVFB', 'TENTEQTRBTRCTRO', 'MON'], Total Distance: 133.27, Total Demand: 84.5, Duration sailing: 13.33, Duration lossing: 11.74\n",
      "Shortest Route: ['MON', 'APTOSS', 'DAB', 'DSS', 'MON'], Total Distance: 253.76, Total Demand: 99.0, Duration sailing: 25.38, Duration lossing: 13.75\n",
      "Shortest Route: ['MON', 'APTOSS', 'DAB', 'MID', 'MON'], Total Distance: 271.26, Total Demand: 84.0, Duration sailing: 27.13, Duration lossing: 11.67\n",
      "Shortest Route: ['MON', 'APTOSS', 'DAB', 'OSOVFB', 'MON'], Total Distance: 224.5, Total Demand: 98.5, Duration sailing: 22.45, Duration lossing: 13.68\n",
      "Shortest Route: ['MON', 'APTOSS', 'DSS', 'KVBNLNVAL', 'MON'], Total Distance: 255.73, Total Demand: 97.0, Duration sailing: 25.57, Duration lossing: 13.47\n",
      "Shortest Route: ['MON', 'APTOSS', 'DSS', 'MID', 'MON'], Total Distance: 292.58, Total Demand: 73.0, Duration sailing: 29.26, Duration lossing: 10.14\n",
      "Shortest Route: ['MON', 'APTOSS', 'DSS', 'OSOVFB', 'MON'], Total Distance: 262.31, Total Demand: 87.5, Duration sailing: 26.23, Duration lossing: 12.15\n",
      "Shortest Route: ['MON', 'APTOSS', 'KVBNLNVAL', 'MID', 'MON'], Total Distance: 240.33, Total Demand: 82.0, Duration sailing: 24.03, Duration lossing: 11.39\n",
      "Shortest Route: ['MON', 'APTOSS', 'KVBNLNVAL', 'OSOVFB', 'MON'], Total Distance: 208.86, Total Demand: 96.5, Duration sailing: 20.89, Duration lossing: 13.4\n",
      "Shortest Route: ['MON', 'APTOSS', 'MID', 'OSCOSE', 'MON'], Total Distance: 186.96, Total Demand: 87.2, Duration sailing: 18.7, Duration lossing: 12.11\n",
      "Shortest Route: ['MON', 'APTOSS', 'MID', 'OSOVFB', 'MON'], Total Distance: 185.79, Total Demand: 72.5, Duration sailing: 18.58, Duration lossing: 10.07\n",
      "Shortest Route: ['MON', 'APTOSS', 'MID', 'TENTEQTRBTRCTRO', 'MON'], Total Distance: 202.54, Total Demand: 100.0, Duration sailing: 20.25, Duration lossing: 13.89\n",
      "Shortest Route: ['MON', 'DAB', 'DSS', 'MID', 'MON'], Total Distance: 224.96, Total Demand: 83.0, Duration sailing: 22.5, Duration lossing: 11.53\n",
      "Shortest Route: ['MON', 'DAB', 'DSS', 'OSOVFB', 'MON'], Total Distance: 194.69, Total Demand: 97.5, Duration sailing: 19.47, Duration lossing: 13.54\n",
      "Shortest Route: ['MON', 'DAB', 'KVBNLNVAL', 'MID', 'MON'], Total Distance: 196.33, Total Demand: 92.0, Duration sailing: 19.63, Duration lossing: 12.78\n",
      "Shortest Route: ['MON', 'DAB', 'MID', 'OSCOSE', 'MON'], Total Distance: 192.73, Total Demand: 97.2, Duration sailing: 19.27, Duration lossing: 13.5\n",
      "Shortest Route: ['MON', 'DAB', 'MID', 'OSOVFB', 'MON'], Total Distance: 191.56, Total Demand: 82.5, Duration sailing: 19.16, Duration lossing: 11.46\n",
      "Shortest Route: ['MON', 'DSS', 'KVBNLNVAL', 'MID', 'MON'], Total Distance: 236.69, Total Demand: 81.0, Duration sailing: 23.67, Duration lossing: 11.25\n",
      "Shortest Route: ['MON', 'DSS', 'KVBNLNVAL', 'OSOVFB', 'MON'], Total Distance: 205.22, Total Demand: 95.5, Duration sailing: 20.52, Duration lossing: 13.26\n",
      "Shortest Route: ['MON', 'DSS', 'MID', 'OSCOSE', 'MON'], Total Distance: 235.57, Total Demand: 86.2, Duration sailing: 23.56, Duration lossing: 11.97\n",
      "Shortest Route: ['MON', 'DSS', 'MID', 'OSOVFB', 'MON'], Total Distance: 234.4, Total Demand: 71.5, Duration sailing: 23.44, Duration lossing: 9.93\n",
      "Shortest Route: ['MON', 'DSS', 'MID', 'TENTEQTRBTRCTRO', 'MON'], Total Distance: 251.15, Total Demand: 99.0, Duration sailing: 25.12, Duration lossing: 13.75\n",
      "Shortest Route: ['MON', 'KVBNLNVAL', 'MID', 'OSCOSE', 'MON'], Total Distance: 197.67, Total Demand: 95.2, Duration sailing: 19.77, Duration lossing: 13.22\n",
      "Shortest Route: ['MON', 'KVBNLNVAL', 'MID', 'OSOVFB', 'MON'], Total Distance: 196.5, Total Demand: 80.5, Duration sailing: 19.65, Duration lossing: 11.18\n",
      "Shortest Route: ['MON', 'MID', 'OSCOSE', 'OSOVFB', 'MON'], Total Distance: 181.68, Total Demand: 85.7, Duration sailing: 18.17, Duration lossing: 11.9\n",
      "Shortest Route: ['MON', 'MID', 'OSOVFB', 'TENTEQTRBTRCTRO', 'MON'], Total Distance: 192.31, Total Demand: 98.5, Duration sailing: 19.23, Duration lossing: 13.68\n",
      "64\n"
     ]
    }
   ],
   "source": [
    "shortest_routes_dict = {}\n",
    "\n",
    "def generate_routes(demand, distances):\n",
    "    cargo_capacity = cargo_capacity_psv\n",
    "    max_platforms = max_platforms_in_one_voyage + 2 \n",
    "\n",
    "    def dp(platform, cargo_remaining, route, visited):\n",
    "        if cargo_remaining < 0:\n",
    "            return\n",
    "        if len(route) > max_platforms:\n",
    "            return\n",
    "        if platform == 'MON' and len(route) > 2:\n",
    "            total_demand = sum(platforms_demand[p] for p in route[1:-1])\n",
    "            if total_demand <= cargo_capacity:\n",
    "                key = tuple(sorted(set(route)))\n",
    "                total_distance = sum(distances.loc[route[i], route[i+1]] for i in range(len(route)-1))\n",
    "                if key not in shortest_routes_dict or total_distance < shortest_routes_dict[key][1]:\n",
    "                    duration_sailing = round((total_distance / psv_speed), 2)\n",
    "                    duration_lossing = round(((total_demand * 1.389) / psv_speed), 2)\n",
    "                    duration_sailing = round(duration_sailing, 2)\n",
    "                    duration_lossing = round(duration_lossing, 2)\n",
    "                    shortest_routes_dict[key] = (route, total_distance, total_demand, duration_sailing, duration_lossing)\n",
    "            return\n",
    "\n",
    "        # Check if the current route is dominated\n",
    "        current_distance = sum(distances.loc[route[i], route[i+1]] for i in range(len(route)-1))\n",
    "        current_demand = sum(platforms_demand[p] for p in route[1:-1])\n",
    "        \n",
    "        # Check for dominance in existing routes\n",
    "        for key, (existing_route, existing_distance, existing_demand, _, _) in shortest_routes_dict.items():\n",
    "            if set(existing_route[1:-1]) == set(route[1:-1]) and existing_demand >= current_demand and existing_distance <= current_distance:\n",
    "                return\n",
    "        \n",
    "        # Check for dominance in subsequent routes starting with the same platforms\n",
    "        for existing_route in dominated_routes:\n",
    "            if set(existing_route[1:-1]) == set(route[1:-1]) and existing_demand >= current_demand and existing_distance <= current_distance:\n",
    "                return\n",
    "\n",
    "        for next_platform in platforms_demand.keys():\n",
    "            if next_platform != platform and next_platform not in visited:\n",
    "                try:\n",
    "                    distance_to_next = distances.loc[platform, next_platform]\n",
    "                    new_cargo_remaining = cargo_remaining - platforms_demand[next_platform]\n",
    "                    dp(next_platform, new_cargo_remaining, route + [next_platform], visited.union({next_platform}))\n",
    "                except KeyError:\n",
    "                    print(\"KeyError occurred for platform:\", next_platform)\n",
    "                    continue\n",
    "\n",
    "    for r in range(3, min(len(platforms_demand) + 3, max_platforms + 3)):\n",
    "        for route_combination in combinations(platforms_demand.keys(), r - 2):\n",
    "            route = ['MON'] + list(route_combination) + ['MON']\n",
    "            dp('MON', cargo_capacity, route, {'MON'})\n",
    "\n",
    "            # Add the current route to the dominated routes set\n",
    "            dominated_routes.add(tuple(route))\n",
    "\n",
    "    return shortest_routes_dict\n",
    "\n",
    "# Keep track of dominated routes to skip future routes starting with them\n",
    "dominated_routes = set()\n",
    "shortest_routes_dict = generate_routes(demand, distances)\n",
    "\n",
    "for route, distance, demand, duration_sailing, duration_lossing in shortest_routes_dict.values():\n",
    "    print(f\"Shortest Route: {route}, Total Distance: {round(distance,2)}, Total Demand: {demand}, Duration sailing: {duration_sailing}, Duration lossing: {duration_lossing}\")\n",
    "\n",
    "print(len(shortest_routes_dict))"
   ]
  },
  {
   "cell_type": "markdown",
   "metadata": {},
   "source": [
    "## Capacity/idle time checks"
   ]
  },
  {
   "cell_type": "code",
   "execution_count": 5,
   "metadata": {},
   "outputs": [],
   "source": [
    "shortest_routes_dict_cap = {}\n",
    "\n",
    "for key, (route, distance, demand, duration_sailing, duration_lossing) in shortest_routes_dict.items():\n",
    "    #if demand > 60 and demand < 101: # capacity for 100\n",
    "    if demand > mincap and demand < maxcap:\n",
    "        shortest_routes_dict_cap[key] = (route, distance, demand, duration_sailing, duration_lossing)"
   ]
  },
  {
   "cell_type": "markdown",
   "metadata": {},
   "source": [
    "### If capacity/ idle time restriction"
   ]
  },
  {
   "cell_type": "code",
   "execution_count": 6,
   "metadata": {},
   "outputs": [
    {
     "name": "stdout",
     "output_type": "stream",
     "text": [
      "Count of routes with duration between 16 and 24 removed: 6\n",
      "Count of routes with duration between 40 and 48 removed: 6\n"
     ]
    }
   ],
   "source": [
    "\n",
    "# Initialize dictionaries to store routes\n",
    "shortest_routes_dict_cap_idle = {}\n",
    "routes_to_remove = []\n",
    "\n",
    "if idle_restriction == True:\n",
    "\n",
    "    # Iterate through routes in shortest_routes_dict_cap\n",
    "    for key, (route, distance, demand, duration_sailing, duration_lossing) in shortest_routes_dict_cap.items():\n",
    "        total_duration = duration_sailing + duration_lossing\n",
    "        if 16 < total_duration < 24 or 40 < total_duration < 48:\n",
    "            # If the route meets the conditions, add it to the routes_to_remove list\n",
    "            routes_to_remove.append(key)\n",
    "        else:\n",
    "            # If the route does not meet the conditions, add it to shortest_routes_dict_cap_idle\n",
    "            shortest_routes_dict_cap_idle[key] = (route, distance, demand, duration_sailing, duration_lossing)\n",
    "\n",
    "    # Remove routes that meet the conditions from shortest_routes_dict_cap\n",
    "    for key in routes_to_remove:\n",
    "        del shortest_routes_dict_cap[key]\n",
    "\n",
    "    # Print counts\n",
    "    print(\"Count of routes with duration between 16 and 24 removed:\", len(routes_to_remove))\n",
    "    print(\"Count of routes with duration between 40 and 48 removed:\", len(routes_to_remove))"
   ]
  },
  {
   "cell_type": "markdown",
   "metadata": {},
   "source": [
    "## Saves the shortest routes left to csv files in the generated_datafiles folder. In total 2294 routes"
   ]
  },
  {
   "cell_type": "code",
   "execution_count": 7,
   "metadata": {},
   "outputs": [],
   "source": [
    "\n",
    "\n",
    "\n",
    "routes_only = [route for route, _, _, _, _ in shortest_routes_dict_cap.values()]\n",
    "distances_only = [distance for _, distance, _, _, _ in shortest_routes_dict_cap.values()]\n",
    "demand_only = [demand for _, _, demand, _, _ in shortest_routes_dict_cap.values()]\n",
    "duration_sailing = [duration_sailing for _, _, _, duration_sailing, _ in shortest_routes_dict_cap.values()]\n",
    "duration_lossing = [duration_lossing for _, _, _, _, duration_lossing in shortest_routes_dict_cap.values()]\n",
    "\n",
    "df_distances = pd.DataFrame({'Distance': distances_only})\n",
    "df_demand = pd.DataFrame({'Demand': demand_only})\n",
    "df_duration_sailing = pd.DataFrame({'Duration (hours)': duration_sailing})\n",
    "df_duration_lossing = pd.DataFrame({'Duration (hours)': duration_lossing})\n",
    "\n",
    "df_distances.to_csv(f'config{confignr}/{mappenavn}/distances{capacity_fil}.csv', index=False)\n",
    "df_demand.to_csv(f'config{confignr}/{mappenavn}/demand{capacity_fil}.csv', index=False)\n",
    "df_duration_sailing.to_csv(f'config{confignr}/{mappenavn}/duration_sailing{capacity_fil}.csv', index=False)\n",
    "df_duration_lossing.to_csv(f'config{confignr}/{mappenavn}/duration_lossing{capacity_fil}.csv', index=False)\n",
    "route_file = f\"config{confignr}/{mappenavn}/routes{capacity_fil}.csv\"\n",
    "\n",
    "def write_to_csv(filename, data):\n",
    "    with open(filename, \"w\", newline=\"\") as file:\n",
    "        writer = csv.writer(file)\n",
    "        writer.writerows(data)\n",
    "\n",
    "write_to_csv(route_file, routes_only)"
   ]
  }
 ],
 "metadata": {
  "kernelspec": {
   "display_name": "Python 3",
   "language": "python",
   "name": "python3"
  },
  "language_info": {
   "codemirror_mode": {
    "name": "ipython",
    "version": 3
   },
   "file_extension": ".py",
   "mimetype": "text/x-python",
   "name": "python",
   "nbconvert_exporter": "python",
   "pygments_lexer": "ipython3",
   "version": "3.11.4"
  },
  "orig_nbformat": 4
 },
 "nbformat": 4,
 "nbformat_minor": 2
}
