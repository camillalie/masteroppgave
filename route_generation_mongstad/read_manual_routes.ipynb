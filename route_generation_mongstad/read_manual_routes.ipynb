{
 "cells": [
  {
   "cell_type": "code",
   "execution_count": 13,
   "metadata": {},
   "outputs": [
    {
     "name": "stdout",
     "output_type": "stream",
     "text": [
      "85.82\n",
      "146.1875\n",
      "146.9975\n",
      "172.13249999999996\n",
      "170.805\n",
      "151.9\n",
      "147.0425\n",
      "130.235\n",
      "158.08249999999998\n",
      "168.8975\n",
      "164.07500000000002\n",
      "180.1\n",
      "168.8975\n",
      "71.32249999999999\n",
      "141.93\n",
      "92.3375\n",
      "116.17\n",
      "123.22\n",
      "137.97500000000002\n",
      "112.1625\n",
      "133.03799999999998\n",
      "135.602\n",
      "132.992\n",
      "119.295\n"
     ]
    }
   ],
   "source": [
    "# Open the CSV file\n",
    "with open('cluster21_new/distances.csv', 'r') as file:\n",
    "    # Read all lines into a list\n",
    "    lines = file.readlines()\n",
    "\n",
    "# Lines to print\n",
    "line_numbers = [1, 51, 56, 123, 143, 152, 198, 207, 226, 228, 246, 252, 268, 354, 445, 598, 770, 778, 910, 1089, 1216, 1240, 1396, 1413]\n",
    "\n",
    "for line_number in line_numbers:\n",
    "    index = line_number \n",
    "    print(lines[index].strip())"
   ]
  },
  {
   "cell_type": "code",
   "execution_count": null,
   "metadata": {},
   "outputs": [],
   "source": []
  }
 ],
 "metadata": {
  "kernelspec": {
   "display_name": "masteroppgave",
   "language": "python",
   "name": "python3"
  },
  "language_info": {
   "codemirror_mode": {
    "name": "ipython",
    "version": 3
   },
   "file_extension": ".py",
   "mimetype": "text/x-python",
   "name": "python",
   "nbconvert_exporter": "python",
   "pygments_lexer": "ipython3",
   "version": "3.11.4"
  }
 },
 "nbformat": 4,
 "nbformat_minor": 2
}
