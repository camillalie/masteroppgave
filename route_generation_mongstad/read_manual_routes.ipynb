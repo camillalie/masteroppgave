{
 "cells": [
  {
   "cell_type": "code",
   "execution_count": 5,
   "metadata": {},
   "outputs": [
    {
     "name": "stdout",
     "output_type": "stream",
     "text": [
      "67.25\n",
      "46.75\n",
      "92.25\n",
      "53.67\n",
      "68.67\n",
      "67.0\n",
      "58.0\n",
      "43.0\n",
      "43.0\n",
      "95.92\n",
      "96.25\n",
      "64.5\n",
      "50.0\n",
      "65.0\n",
      "59.5\n",
      "68.0\n",
      "68.0\n",
      "98.75\n",
      "98.0\n",
      "95.67\n",
      "78.0\n",
      "87.0\n",
      "69.0\n",
      "69.67\n",
      "89.75\n",
      "89.75\n",
      "72.0\n",
      "70.0\n",
      "75.5\n",
      "77.5\n",
      "65.0\n",
      "79.0\n",
      "99.25\n",
      "96.5\n",
      "97.0\n",
      "97.0\n",
      "97.5\n",
      "95.5\n",
      "97.0\n"
     ]
    }
   ],
   "source": [
    "# Open the CSV file\n",
    "with open('generated_datafiles_2239/demand.csv', 'r') as file:\n",
    "    # Read all lines into a list\n",
    "    lines = file.readlines()\n",
    "\n",
    "# Lines to print\n",
    "line_numbers = [6, 14, 39, 42, 56, 64, 66, 68, 81, 95, 99, \n",
    "                141, 237, 268, 277, \n",
    "                304, 332, 379, 387, 432, 459, 467, 589,\n",
    "                619, 647, 692, 735, 743, 765, 767, 769, 787, 800, \n",
    "                1051, 1151, 1152, 1377, 1837, 2024]\n",
    "\n",
    "for line_number in line_numbers:\n",
    "    index = line_number\n",
    "    print(lines[index].strip())"
   ]
  }
 ],
 "metadata": {
  "kernelspec": {
   "display_name": "masteroppgave",
   "language": "python",
   "name": "python3"
  },
  "language_info": {
   "codemirror_mode": {
    "name": "ipython",
    "version": 3
   },
   "file_extension": ".py",
   "mimetype": "text/x-python",
   "name": "python",
   "nbconvert_exporter": "python",
   "pygments_lexer": "ipython3",
   "version": "3.11.4"
  }
 },
 "nbformat": 4,
 "nbformat_minor": 2
}
