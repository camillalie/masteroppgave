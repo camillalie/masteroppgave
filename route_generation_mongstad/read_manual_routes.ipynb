{
 "cells": [
  {
   "cell_type": "code",
   "execution_count": 41,
   "metadata": {},
   "outputs": [
    {
     "name": "stdout",
     "output_type": "stream",
     "text": [
      "7.45\n",
      "9.54\n",
      "8.06\n",
      "8.06\n",
      "8.06\n",
      "8.44\n",
      "8.44\n",
      "8.96\n",
      "9.76\n",
      "9.45\n",
      "8.75\n",
      "9.45\n",
      "9.72\n",
      "9.03\n"
     ]
    }
   ],
   "source": [
    "# Open the CSV file\n",
    "with open('generated_datafiles_setcover70/duration_lossing.csv', 'r') as file:\n",
    "    # Read all lines into a list\n",
    "    lines = file.readlines()\n",
    "\n",
    "# Lines to print\n",
    "line_numbers = [40,53,61,69,80,90,100, 121,137,177, 200, 207, 366, 377]\n",
    "\n",
    "for line_number in line_numbers:\n",
    "    index = line_number\n",
    "    print(lines[index].strip())"
   ]
  }
 ],
 "metadata": {
  "kernelspec": {
   "display_name": "masteroppgave",
   "language": "python",
   "name": "python3"
  },
  "language_info": {
   "codemirror_mode": {
    "name": "ipython",
    "version": 3
   },
   "file_extension": ".py",
   "mimetype": "text/x-python",
   "name": "python",
   "nbconvert_exporter": "python",
   "pygments_lexer": "ipython3",
   "version": "3.11.4"
  }
 },
 "nbformat": 4,
 "nbformat_minor": 2
}
