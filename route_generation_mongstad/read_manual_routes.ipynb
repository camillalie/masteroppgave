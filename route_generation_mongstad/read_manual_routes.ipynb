{
 "cells": [
  {
   "cell_type": "code",
   "execution_count": 4,
   "metadata": {},
   "outputs": [
    {
     "name": "stdout",
     "output_type": "stream",
     "text": [
      "71.32249999999999\n",
      "102.7175\n",
      "141.93\n",
      "92.3375\n",
      "114.3575\n",
      "116.69\n",
      "133.365\n",
      "114.9625\n",
      "132.992\n",
      "119.295\n",
      "150.0825\n",
      "170.805\n",
      "146.9975\n",
      "168.8975\n",
      "146.1875\n",
      "172.13249999999996\n",
      "151.9\n",
      "147.0425\n",
      "168.8975\n"
     ]
    }
   ],
   "source": [
    "# Open the CSV file\n",
    "with open('cluster19_new/distances.csv', 'r') as file:\n",
    "    # Read all lines into a list\n",
    "    lines = file.readlines()\n",
    "\n",
    "# Lines to print\n",
    "line_numbers = [76, 130, 151, 266, 279, 371, 379, 491, 514, 530, 647, 651, 672, 686, 669, 717, 733, 757, 767]\n",
    "\n",
    "for line_number in line_numbers:\n",
    "    index = line_number \n",
    "    print(lines[index].strip())"
   ]
  },
  {
   "cell_type": "code",
   "execution_count": null,
   "metadata": {},
   "outputs": [],
   "source": []
  }
 ],
 "metadata": {
  "kernelspec": {
   "display_name": "masteroppgave",
   "language": "python",
   "name": "python3"
  },
  "language_info": {
   "codemirror_mode": {
    "name": "ipython",
    "version": 3
   },
   "file_extension": ".py",
   "mimetype": "text/x-python",
   "name": "python",
   "nbconvert_exporter": "python",
   "pygments_lexer": "ipython3",
   "version": "3.11.4"
  }
 },
 "nbformat": 4,
 "nbformat_minor": 2
}
