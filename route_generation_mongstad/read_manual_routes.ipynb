{
 "cells": [
  {
   "cell_type": "code",
   "execution_count": 6,
   "metadata": {},
   "outputs": [
    {
     "name": "stdout",
     "output_type": "stream",
     "text": [
      "46.75\n",
      "92.25\n",
      "53.67\n",
      "68.67\n",
      "67.0\n",
      "58.0\n",
      "95.92\n",
      "96.25\n",
      "64.5\n",
      "50.0\n",
      "65.0\n",
      "98.75\n",
      "98.0\n",
      "95.67\n",
      "87.0\n",
      "78.0\n",
      "69.67\n",
      "89.75\n",
      "89.75\n",
      "72.0\n",
      "70.0\n",
      "75.5\n",
      "77.5\n",
      "79.0\n",
      "99.25\n",
      "96.5\n",
      "97.0\n",
      "97.5\n",
      "95.5\n",
      "97.0\n"
     ]
    }
   ],
   "source": [
    "# Open the CSV file\n",
    "with open('FILE PATH', 'r') as file:\n",
    "    # Read all lines into a list\n",
    "    lines = file.readlines()\n",
    "\n",
    "# Lines to print\n",
    "line_numbers = [\n",
    "    14, 39, 42, 56, 64, 66, 95, 99, 141, 237, 268, 379, 387, 432, 467, 459,\n",
    "    619, 647, 692, 735, 743, 765, 767, 787, 800, 1051, 1151, 1377, 1837, 2024\n",
    "]\n",
    "\n",
    "for line_number in line_numbers:\n",
    "    index = line_number\n",
    "    print(lines[index].strip())"
   ]
  }
 ],
 "metadata": {
  "kernelspec": {
   "display_name": "masteroppgave",
   "language": "python",
   "name": "python3"
  },
  "language_info": {
   "codemirror_mode": {
    "name": "ipython",
    "version": 3
   },
   "file_extension": ".py",
   "mimetype": "text/x-python",
   "name": "python",
   "nbconvert_exporter": "python",
   "pygments_lexer": "ipython3",
   "version": "3.11.4"
  }
 },
 "nbformat": 4,
 "nbformat_minor": 2
}
