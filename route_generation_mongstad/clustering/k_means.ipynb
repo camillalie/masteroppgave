{
 "cells": [
  {
   "cell_type": "code",
   "execution_count": 5,
   "metadata": {},
   "outputs": [],
   "source": [
    "import pandas as pd\n",
    "from sklearn.cluster import KMeans\n",
    "import matplotlib.pyplot as plt\n",
    "import cartopy.crs as ccrs\n",
    "import numpy as np\n",
    "from math import radians, sin, cos, sqrt, atan2\n",
    "from sklearn.metrics.pairwise import haversine_distances"
   ]
  },
  {
   "cell_type": "code",
   "execution_count": 6,
   "metadata": {},
   "outputs": [],
   "source": [
    "#ANGI ANTALL CLUSTERS KJØRINGEN SKAL HA\n",
    "antall_clusters = 15\n",
    "confignr = ''\n",
    "mappenavn = 'clustering'"
   ]
  },
  {
   "cell_type": "markdown",
   "metadata": {},
   "source": [
    "### K-means algorithm for generating clusters"
   ]
  },
  {
   "cell_type": "code",
   "execution_count": 7,
   "metadata": {},
   "outputs": [
    {
     "data": {
      "image/png": "[encoded data removed]",
      "text/plain": [
       "<Figure size 1000x800 with 1 Axes>"
      ]
     },
     "metadata": {},
     "output_type": "display_data"
    },
    {
     "name": "stdout",
     "output_type": "stream",
     "text": [
      "Cluster 3: ['ASL'], Total Cargo_per_visit: 25.0\n",
      "Cluster 4: ['NLN'], Total Cargo_per_visit: 25.0\n",
      "Cluster 15: ['VAL'], Total Cargo_per_visit: 11.0\n",
      "Cluster 9: ['KVB'], Total Cargo_per_visit: 14.0\n",
      "Cluster 8: ['TEN'], Total Cargo_per_visit: 18.0\n",
      "Cluster 1: ['TEQ'], Total Cargo_per_visit: 18.0\n",
      "Cluster 13: ['TRB'], Total Cargo_per_visit: 22.0\n",
      "Cluster 14: ['TRC'], Total Cargo_per_visit: 18.0\n",
      "Cluster 7: ['TRO'], Total Cargo_per_visit: 11.0\n",
      "Cluster 12: ['VFB'], Total Cargo_per_visit: 18.0\n",
      "Cluster 2: ['OSO'], Total Cargo_per_visit: 14.0\n",
      "Cluster 5: ['MID'], Total Cargo_per_visit: 14.0\n",
      "Cluster 11: ['OSC'], Total Cargo_per_visit: 18.0\n",
      "Cluster 6: ['OSE'], Total Cargo_per_visit: 36.0\n",
      "Cluster 10: ['OSS'], Total Cargo_per_visit: 18.0\n"
     ]
    }
   ],
   "source": [
    "data = pd.read_csv('clustering_input_15_4.csv', delimiter=';')\n",
    "coordinates = data[['Latitude', 'Longitude']]\n",
    "\n",
    "clusters = []\n",
    "cluster_summary = {}\n",
    "\n",
    "def cluster_with_demand_constraint(num_clusters, data):\n",
    "    kmeans = KMeans(n_clusters=num_clusters, random_state=42)\n",
    "    kmeans.fit(data)\n",
    "    \n",
    "    labels = kmeans.labels_\n",
    "\n",
    "    clustered_installations = {}\n",
    "    for i, label in enumerate(labels):\n",
    "        if label not in clustered_installations:\n",
    "            clustered_installations[label] = []\n",
    "        clustered_installations[label].append(data.index[i])\n",
    "\n",
    "    return labels, clustered_installations\n",
    "\n",
    "def generate_cluster_colors(num_clusters):\n",
    "    np.random.seed(42)\n",
    "    colors = np.random.rand(num_clusters, 3)\n",
    "    return colors\n",
    "\n",
    "def plot_clusters_on_map(data, labels, colors):\n",
    "    plt.figure(figsize=(10, 8))\n",
    "    ax = plt.axes(projection=ccrs.PlateCarree())\n",
    "    for i, label in enumerate(labels):\n",
    "        lat, lon = data.iloc[i]\n",
    "        color = colors[label]\n",
    "        ax.scatter(lon, lat, color=color, marker='o', transform=ccrs.PlateCarree(), zorder=5)\n",
    "    ax.coastlines()\n",
    "    plt.title('Installations Clustering')\n",
    "    plt.show()\n",
    "\n",
    "def print_clustered_installations(clustered_installations, data):\n",
    "    cluster_data = {'platform': [], 'visits': []}\n",
    "    \n",
    "    for cluster, installations in clustered_installations.items():\n",
    "        ids = [data.iloc[i]['ID'] for i in installations]\n",
    "        \n",
    "        max_visits = max(data.iloc[i]['Visits_per_week'] for i in installations)\n",
    "        cargo_sum = sum(data.iloc[i]['Cargo_per_visit'] * data.iloc[i]['Visits_per_week'] / max_visits for i in installations)\n",
    "        \n",
    "        cluster_data['platform'].append(''.join(ids))\n",
    "        cluster_data['visits'].append(round(max_visits, 2))\n",
    "        \n",
    "        print(f\"Cluster {cluster + 1}: {ids}, Total Cargo_per_visit: {round(cargo_sum,2)}\")\n",
    "        clusters.append(ids)\n",
    "\n",
    "        cluster_summary[cluster + 1] = {'platform': ''.join(ids), 'avg_q': round(cargo_sum,2)}\n",
    "    \n",
    "    return cluster_data\n",
    "\n",
    "def save_cluster_summary_to_csv(cluster_summary, filename='output_platforms_demand.csv'):\n",
    "    df = pd.DataFrame.from_dict(cluster_summary, orient='index')\n",
    "    df.to_csv(f'../{confignr}/{mappenavn}/{filename}', index=False, sep=';')\n",
    "\n",
    "def save_cluster_data_to_csv(cluster_data, filename='output_platforms_visits.csv'):\n",
    "    df = pd.DataFrame(cluster_data)\n",
    "    df.to_csv(f'../{confignr}/{mappenavn}/{filename}', index=False, sep=';')\n",
    "\n",
    "def main():\n",
    "    num_clusters = antall_clusters\n",
    "    labels, clustered_installations = cluster_with_demand_constraint(num_clusters, coordinates)\n",
    "    colors = generate_cluster_colors(num_clusters)\n",
    "    plot_clusters_on_map(coordinates, labels, colors)\n",
    "    cluster_data = print_clustered_installations(clustered_installations, data)\n",
    "    save_cluster_data_to_csv(cluster_data)\n",
    "    save_cluster_summary_to_csv(cluster_summary)\n",
    "\n",
    "if __name__ == \"__main__\":\n",
    "    main()\n"
   ]
  },
  {
   "cell_type": "markdown",
   "metadata": {},
   "source": [
    "### Create distance matrix based on the generated clusters"
   ]
  },
  {
   "cell_type": "code",
   "execution_count": 8,
   "metadata": {},
   "outputs": [],
   "source": [
    "def calculate_distance(lat1, lon1, lat2, lon2):\n",
    "    lat1 = radians(lat1)\n",
    "    lon1 = radians(lon1)\n",
    "    lat2 = radians(lat2)\n",
    "    lon2 = radians(lon2)\n",
    "    \n",
    "    dlon = lon2 - lon1\n",
    "    dlat = lat2 - lat1\n",
    "    a = sin(dlat / 2)**2 + cos(lat1) * cos(lat2) * sin(dlon / 2)**2\n",
    "    c = 2 * atan2(sqrt(a), sqrt(1 - a))\n",
    "    distance = 6371 * c  \n",
    "    return distance\n",
    "\n",
    "clusters_list = [['MON']]\n",
    "for cluster in clusters:\n",
    "    clusters_list.append(cluster)\n",
    "\n",
    "installations = pd.read_csv('distance_matrix_input15_4.csv', delimiter=';')\n",
    "\n",
    "cluster_centroids = []\n",
    "cluster_names = []\n",
    "for cluster in clusters_list:\n",
    "    centroid_lat = installations.loc[installations['ID'].isin(cluster), 'Latitude'].mean()\n",
    "    centroid_lon = installations.loc[installations['ID'].isin(cluster), 'Longitude'].mean()\n",
    "    cluster_centroids.append((centroid_lat, centroid_lon))\n",
    "    cluster_name = ''.join(cluster)\n",
    "    cluster_names.append(cluster_name)\n",
    "\n",
    "new_distance_matrix = pd.DataFrame(index=cluster_names, columns=cluster_names)\n",
    "\n",
    "def km_to_nm(km):\n",
    "    return km * 0.539957\n",
    "\n",
    "for i in range(len(clusters_list)):\n",
    "    for j in range(len(clusters_list)):\n",
    "        distance_km = calculate_distance(cluster_centroids[i][0], cluster_centroids[i][1], cluster_centroids[j][0], cluster_centroids[j][1])\n",
    "        distance_nm = km_to_nm(distance_km)\n",
    "        new_distance_matrix.iloc[i, j] = round(distance_nm,2)"
   ]
  },
  {
   "cell_type": "markdown",
   "metadata": {},
   "source": [
    "### Add inner cluster distance to the distance matrix"
   ]
  },
  {
   "cell_type": "code",
   "execution_count": 9,
   "metadata": {},
   "outputs": [],
   "source": [
    "def haversine_distance_calc(coord1, coord2):\n",
    "    coord1 = [radians(coord) for coord in coord1]\n",
    "    coord2 = [radians(coord) for coord in coord2]\n",
    "    result = haversine_distances([coord1, coord2])\n",
    "    return result[0][1] * 6371.0\n",
    "\n",
    "def km_to_nm(km):\n",
    "    return km * 0.539957\n",
    "\n",
    "highest_visits = {}\n",
    "\n",
    "cluster_centers = {}\n",
    "for cluster in clusters_list:\n",
    "    cluster_coords = []\n",
    "    for location in cluster:\n",
    "        if location in data['ID'].values:\n",
    "            coords = data.loc[data['ID'] == location, ['Latitude', 'Longitude']].values[0]\n",
    "            cluster_coords.append(coords)\n",
    "    if cluster_coords:\n",
    "        cluster_center = [sum(x)/len(x) for x in zip(*cluster_coords)]\n",
    "        cluster_centers[tuple(cluster)] = cluster_center\n",
    "\n",
    "for cluster in clusters_list:\n",
    "    max_visits = 0\n",
    "    for location in cluster:\n",
    "        if location in data['ID'].values:\n",
    "            visits = data.loc[data['ID'] == location, 'Visits_per_week'].values[0]\n",
    "            if visits > max_visits:\n",
    "                max_visits = visits\n",
    "    highest_visits[tuple(cluster)] = max_visits\n",
    "\n",
    "intra_cluster_distances = []\n",
    "intra_cluster_distances.append(('MON',0.0))\n",
    "\n",
    "for cluster, center_coords in cluster_centers.items():\n",
    "    total_distance = 0\n",
    "    \n",
    "    # Sorting locations in the cluster based on visit numbers in descending order\n",
    "    sorted_locations = sorted(cluster, key=lambda x: data.loc[data['ID'] == x, 'Visits_per_week'].values[0], reverse=True)\n",
    "    \n",
    "    # Get the coordinates of the location with the highest visits\n",
    "    max_visits_location_coords = data.loc[data['ID'] == sorted_locations[0], ['Latitude', 'Longitude']].values[0]\n",
    "    \n",
    "    # Calculate distance from cluster center to the location with the highest visits\n",
    "    distance_to_max_visits_location = haversine_distance_calc(center_coords, max_visits_location_coords)\n",
    "    total_distance += km_to_nm(distance_to_max_visits_location) * 2\n",
    "    \n",
    "    # Add distances for other locations based on visit numbers\n",
    "    for location_id in sorted_locations[1:]:\n",
    "        location_coords = data.loc[data['ID'] == location_id, ['Latitude', 'Longitude']].values[0]\n",
    "        distance_to_location = haversine_distance_calc(max_visits_location_coords, location_coords)\n",
    "        visits = data.loc[data['ID'] == location_id, 'Visits_per_week'].values[0]\n",
    "        max_visits = highest_visits[tuple(cluster)]\n",
    "        intra_cluster_distance = distance_to_location * (visits / max_visits)\n",
    "        total_distance += km_to_nm(intra_cluster_distance)\n",
    "    \n",
    "    intra_cluster_id = ''.join(cluster)\n",
    "    intra_cluster_distances.append((intra_cluster_id, round(total_distance,3)))\n",
    "\n",
    "#print(intra_cluster_distances)"
   ]
  },
  {
   "cell_type": "code",
   "execution_count": 10,
   "metadata": {},
   "outputs": [],
   "source": [
    "distance_matrix_with_inner_cluster_distance = new_distance_matrix.copy()\n",
    "\n",
    "for intra_cluster_dist in intra_cluster_distances:\n",
    "    cluster_name, total_distance = intra_cluster_dist\n",
    "    distance_matrix_with_inner_cluster_distance.loc[cluster_name] += round(total_distance / 2,2)\n",
    "    distance_matrix_with_inner_cluster_distance[cluster_name] += round(total_distance / 2,2)\n",
    "\n",
    "#distance_matrix_with_inner_cluster_distance"
   ]
  },
  {
   "cell_type": "code",
   "execution_count": 11,
   "metadata": {},
   "outputs": [],
   "source": [
    "for i, row in distance_matrix_with_inner_cluster_distance.iterrows():\n",
    "    distance_matrix_with_inner_cluster_distance.at[i, i] = 0\n",
    "#distance_matrix_with_inner_cluster_distance"
   ]
  },
  {
   "cell_type": "code",
   "execution_count": 12,
   "metadata": {},
   "outputs": [],
   "source": [
    "distance_matrix_with_inner_cluster_distance.to_csv(f'../{confignr}/{mappenavn}/output_distance_matrix_kmeans.csv', sep=';', index_label='from/to')"
   ]
  }
 ],
 "metadata": {
  "kernelspec": {
   "display_name": "masteroppgave",
   "language": "python",
   "name": "python3"
  },
  "language_info": {
   "codemirror_mode": {
    "name": "ipython",
    "version": 3
   },
   "file_extension": ".py",
   "mimetype": "text/x-python",
   "name": "python",
   "nbconvert_exporter": "python",
   "pygments_lexer": "ipython3",
   "version": "3.11.4"
  }
 },
 "nbformat": 4,
 "nbformat_minor": 2
}
