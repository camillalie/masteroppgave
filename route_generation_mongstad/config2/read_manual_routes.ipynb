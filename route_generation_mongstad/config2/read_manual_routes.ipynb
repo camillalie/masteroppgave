{
 "cells": [
  {
   "cell_type": "code",
   "execution_count": 94,
   "metadata": {},
   "outputs": [
    {
     "name": "stdout",
     "output_type": "stream",
     "text": [
      "14.77\n",
      "15.46\n",
      "14.33\n",
      "9.91\n",
      "17.67\n",
      "14.85\n",
      "16.42\n",
      "16.11\n",
      "17.81\n",
      "18.24\n",
      "17.59\n",
      "17.88\n",
      "14.91\n",
      "11.74\n",
      "18.52\n",
      "18.61\n",
      "17.32\n",
      "19.7\n",
      "15.69\n",
      "15.93\n",
      "20.95\n",
      "11.9\n",
      "11.86\n",
      "12.33\n",
      "12.46\n",
      "12.28\n",
      "12.18\n",
      "8.27\n",
      "13.62\n",
      "18.07\n",
      "17.46\n",
      "17.34\n",
      "17.44\n",
      "18.64\n",
      "13.84\n",
      "12.29\n",
      "13.36\n",
      "12.76\n",
      "18.59\n",
      "18.15\n",
      "12.09\n",
      "14.01\n",
      "12.38\n",
      "18.8\n"
     ]
    }
   ],
   "source": [
    "# Open the CSV file\n",
    "with open('22/duration_sailing.csv', 'r') as file:\n",
    "    # Read all lines into a list\n",
    "    lines = file.readlines()\n",
    "\n",
    "# Lines to print\n",
    "line_numbers = [6, 51, 70, 79, 83, 119, 143, 512, 643, 652, 653, 720, 740, 779, 813, 913, 1068, 1089, 1104, 1106, 1404, 1503, 1557, 1561, 1565, 1568, 1588, 1708, 2590, 3235, 4853, 4854, 5036, 5483, 5519, 5530, 5688, 5689, 5744, 6639, 8817, 8837, 8911, 9150]\n",
    "\n",
    "for line_number in line_numbers:\n",
    "    index = line_number \n",
    "    print(lines[index].strip())"
   ]
  },
  {
   "cell_type": "code",
   "execution_count": null,
   "metadata": {},
   "outputs": [],
   "source": []
  }
 ],
 "metadata": {
  "kernelspec": {
   "display_name": "masteroppgave",
   "language": "python",
   "name": "python3"
  },
  "language_info": {
   "codemirror_mode": {
    "name": "ipython",
    "version": 3
   },
   "file_extension": ".py",
   "mimetype": "text/x-python",
   "name": "python",
   "nbconvert_exporter": "python",
   "pygments_lexer": "ipython3",
   "version": "3.11.4"
  }
 },
 "nbformat": 4,
 "nbformat_minor": 2
}
