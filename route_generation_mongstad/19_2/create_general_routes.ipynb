{
 "cells": [
  {
   "cell_type": "code",
   "execution_count": 7,
   "metadata": {},
   "outputs": [
    {
     "name": "stdout",
     "output_type": "stream",
     "text": [
      "Concatenation completed. Output saved to general_routes.csv\n"
     ]
    }
   ],
   "source": [
    "import os\n",
    "import pandas as pd\n",
    "\n",
    "folders = ['generated_datafiles_allroutes15', 'generated_datafiles_allroutes15_2', 'generated_datafiles_allroutes15_3', 'generated_datafiles_allroutes15_4']\n",
    "\n",
    "all_routes = []\n",
    "\n",
    "for folder in folders:\n",
    "    file_path = os.path.join(folder, 'routes.csv')\n",
    "\n",
    "    if os.path.exists(file_path):\n",
    "        with open(file_path, 'r') as file:\n",
    "            routes = file.readlines()\n",
    "            all_routes.extend(routes)\n",
    "\n",
    "with open('general_routes.csv', 'w') as file:\n",
    "    file.writelines(all_routes)\n",
    "\n",
    "print(\"Concatenation completed. Output saved to general_routes.csv\")"
   ]
  },
  {
   "cell_type": "code",
   "execution_count": 8,
   "metadata": {},
   "outputs": [
    {
     "name": "stdout",
     "output_type": "stream",
     "text": [
      "Concatenation completed. Output saved to general_demand.csv\n"
     ]
    }
   ],
   "source": [
    "all_demand = []\n",
    "\n",
    "for folder in folders:\n",
    "    file_path = os.path.join(folder, 'demand.csv')\n",
    "    \n",
    "    if os.path.exists(file_path):\n",
    "        with open(file_path, 'r') as file:\n",
    "            demand = file.readlines()\n",
    "            all_demand.extend(demand)\n",
    "\n",
    "with open('general_demand.csv', 'w') as file:\n",
    "    file.writelines(all_demand)\n",
    "\n",
    "print(\"Concatenation completed. Output saved to general_demand.csv\")"
   ]
  },
  {
   "cell_type": "code",
   "execution_count": 9,
   "metadata": {},
   "outputs": [
    {
     "name": "stdout",
     "output_type": "stream",
     "text": [
      "Concatenation completed. Output saved to general_distances.csv\n"
     ]
    }
   ],
   "source": [
    "all_distances = []\n",
    "\n",
    "for folder in folders:\n",
    "    file_path = os.path.join(folder, 'distances.csv')\n",
    "    \n",
    "    if os.path.exists(file_path):\n",
    "        with open(file_path, 'r') as file:\n",
    "            distances = file.readlines()\n",
    "            all_distances.extend(distances)\n",
    "\n",
    "with open('general_distances.csv', 'w') as file:\n",
    "    file.writelines(all_distances)\n",
    "\n",
    "print(\"Concatenation completed. Output saved to general_distances.csv\")"
   ]
  }
 ],
 "metadata": {
  "kernelspec": {
   "display_name": "masteroppgave",
   "language": "python",
   "name": "python3"
  },
  "language_info": {
   "codemirror_mode": {
    "name": "ipython",
    "version": 3
   },
   "file_extension": ".py",
   "mimetype": "text/x-python",
   "name": "python",
   "nbconvert_exporter": "python",
   "pygments_lexer": "ipython3",
   "version": "3.11.4"
  }
 },
 "nbformat": 4,
 "nbformat_minor": 2
}
