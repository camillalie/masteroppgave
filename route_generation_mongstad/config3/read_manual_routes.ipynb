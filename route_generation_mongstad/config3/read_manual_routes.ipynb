{
 "cells": [
  {
   "cell_type": "code",
   "execution_count": 13,
   "metadata": {},
   "outputs": [
    {
     "name": "stdout",
     "output_type": "stream",
     "text": [
      "17.51\n",
      "19.16\n",
      "18.1\n",
      "21.44\n",
      "29.26\n",
      "21.89\n",
      "23.56\n",
      "19.65\n"
     ]
    }
   ],
   "source": [
    "# Open the CSV file\n",
    "with open('11/duration_sailing90.csv', 'r') as file:\n",
    "    # Read all lines into a list\n",
    "    lines = file.readlines()\n",
    "\n",
    "# Lines to print\n",
    "line_numbers = [4, 6, 11, 28, 30, 37, 44, 46]\n",
    "\n",
    "for line_number in line_numbers:\n",
    "    index = line_number\n",
    "    print(lines[index].strip())"
   ]
  }
 ],
 "metadata": {
  "kernelspec": {
   "display_name": "masteroppgave",
   "language": "python",
   "name": "python3"
  },
  "language_info": {
   "codemirror_mode": {
    "name": "ipython",
    "version": 3
   },
   "file_extension": ".py",
   "mimetype": "text/x-python",
   "name": "python",
   "nbconvert_exporter": "python",
   "pygments_lexer": "ipython3",
   "version": "3.11.4"
  }
 },
 "nbformat": 4,
 "nbformat_minor": 2
}
