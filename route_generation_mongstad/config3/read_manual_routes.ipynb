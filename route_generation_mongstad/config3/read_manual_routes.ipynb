{
 "cells": [
  {
   "cell_type": "code",
   "execution_count": 10,
   "metadata": {},
   "outputs": [
    {
     "name": "stdout",
     "output_type": "stream",
     "text": [
      "18.35\n",
      "15.01\n",
      "16.45\n",
      "12.71\n",
      "15.65\n",
      "17.02\n",
      "15.26\n",
      "16.54\n",
      "24.3\n",
      "15.27\n",
      "15.96\n",
      "21.89\n",
      "18.95\n",
      "21.19\n",
      "23.56\n",
      "19.81\n",
      "16.14\n",
      "21.16\n",
      "21.02\n",
      "18.35\n",
      "15.01\n",
      "15.21\n",
      "16.45\n",
      "12.71\n",
      "15.11\n",
      "13.28\n",
      "18.7\n",
      "20.7\n",
      "17.08\n",
      "13.9\n"
     ]
    },
    {
     "data": {
      "text/plain": [
       "\"\\nwith open('13/routes70.csv', 'r') as file:\\n    # Read all lines into a list\\n    lines3 = file.readlines()\\n\\n# Lines to print\\nline_numbers3 = []\\n\\nfor line_number3 in line_numbers3:\\n    index3 = line_number3 - 1\\n    print(lines3[index3].strip())\\n\""
      ]
     },
     "execution_count": 10,
     "metadata": {},
     "output_type": "execute_result"
    }
   ],
   "source": [
    "# Open the CSV file\n",
    "with open('13/duration_sailing.csv', 'r') as file:\n",
    "    # Read all lines into a list\n",
    "    lines = file.readlines()\n",
    "\n",
    "# Lines to print\n",
    "line_numbers = [1, 2, 11, 13, 19, 20, 22, 24, 42, 57, 58, 70, 73, 76, 109, 115, 126, 129, 211]\n",
    "\n",
    "for line_number in line_numbers:\n",
    "    index = line_number \n",
    "    print(lines[index].strip())\n",
    "\n",
    "# Open the CSV file\n",
    "with open('13/duration_sailing90.csv', 'r') as file:\n",
    "    # Read all lines into a list\n",
    "    lines2 = file.readlines()\n",
    "\n",
    "# Lines to print\n",
    "line_numbers_2 = [1, 2, 7, 12, 14, 19, 28, 49, 61, 72, 117]\n",
    "\n",
    "for line_number2 in line_numbers_2:\n",
    "    index2 = line_number2 \n",
    "    print(lines2[index2].strip())\n",
    "\n",
    "'''\n",
    "with open('13/routes70.csv', 'r') as file:\n",
    "    # Read all lines into a list\n",
    "    lines3 = file.readlines()\n",
    "\n",
    "# Lines to print\n",
    "line_numbers3 = []\n",
    "\n",
    "for line_number3 in line_numbers3:\n",
    "    index3 = line_number3 - 1\n",
    "    print(lines3[index3].strip())\n",
    "'''"
   ]
  },
  {
   "cell_type": "code",
   "execution_count": null,
   "metadata": {},
   "outputs": [],
   "source": []
  }
 ],
 "metadata": {
  "kernelspec": {
   "display_name": "masteroppgave",
   "language": "python",
   "name": "python3"
  },
  "language_info": {
   "codemirror_mode": {
    "name": "ipython",
    "version": 3
   },
   "file_extension": ".py",
   "mimetype": "text/x-python",
   "name": "python",
   "nbconvert_exporter": "python",
   "pygments_lexer": "ipython3",
   "version": "3.11.4"
  }
 },
 "nbformat": 4,
 "nbformat_minor": 2
}
